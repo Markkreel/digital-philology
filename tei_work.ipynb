{
 "cells": [
  {
   "cell_type": "code",
   "execution_count": 1,
   "metadata": {},
   "outputs": [],
   "source": [
    "tei_1 = \"\"\"\n",
    "<TEI version=\"3.3.0\"\n",
    "    xmlns=\"http://www.tei-c.org/ns/1.0\">\n",
    "    <teiHeader>\n",
    "        <fileDesc>\n",
    "            <titleStmt>\n",
    "                <title>Compact valid TEI document</title>\n",
    "            </titleStmt>\n",
    "            <publicationStmt>\n",
    "                <p>This file is published as part of the Digital Philology module.</p>\n",
    "            </publicationStmt>\n",
    "            <sourceDesc>\n",
    "                <p>No source: this is an original work.</p>\n",
    "            </sourceDesc>\n",
    "        </fileDesc>\n",
    "    </teiHeader>\n",
    "    <text>\n",
    "        <body>\n",
    "            <p>Paragraph one is refreshingly short.</p>\n",
    "            <p>Paragraph two is even shorter.</p>\n",
    "        </body>\n",
    "    </text>\n",
    "</TEI>\n",
    "\"\"\""
   ]
  },
  {
   "cell_type": "code",
   "execution_count": 2,
   "metadata": {},
   "outputs": [
    {
     "data": {
      "text/plain": [
       "668"
      ]
     },
     "execution_count": 2,
     "metadata": {},
     "output_type": "execute_result"
    }
   ],
   "source": [
    "tei_file_1 = open(\"tei_1.xml\", \"w\")\n",
    "tei_file_1.write(tei_1)"
   ]
  },
  {
   "cell_type": "code",
   "execution_count": 3,
   "metadata": {},
   "outputs": [],
   "source": [
    "tei_file_1.close()"
   ]
  },
  {
   "cell_type": "code",
   "execution_count": 4,
   "metadata": {},
   "outputs": [],
   "source": [
    "import xml.sax"
   ]
  },
  {
   "cell_type": "code",
   "execution_count": 5,
   "metadata": {},
   "outputs": [],
   "source": [
    "class TEIHandler1(xml.sax.ContentHandler):\n",
    "    def startElement(self, tag, attributes):\n",
    "        print(\"Starting \" + tag + \" element!\")"
   ]
  },
  {
   "cell_type": "code",
   "execution_count": 6,
   "metadata": {},
   "outputs": [],
   "source": [
    "parser = xml.sax.make_parser()\n",
    "parser.setFeature(xml.sax.handler.feature_namespaces, 0)"
   ]
  },
  {
   "cell_type": "code",
   "execution_count": 7,
   "metadata": {},
   "outputs": [],
   "source": [
    "parser.setContentHandler(TEIHandler1())"
   ]
  },
  {
   "cell_type": "code",
   "execution_count": 8,
   "metadata": {},
   "outputs": [
    {
     "name": "stdout",
     "output_type": "stream",
     "text": [
      "Starting TEI element!\n",
      "Starting teiHeader element!\n",
      "Starting fileDesc element!\n",
      "Starting titleStmt element!\n",
      "Starting title element!\n",
      "Starting publicationStmt element!\n",
      "Starting p element!\n",
      "Starting sourceDesc element!\n",
      "Starting p element!\n",
      "Starting text element!\n",
      "Starting body element!\n",
      "Starting p element!\n",
      "Starting p element!\n"
     ]
    }
   ],
   "source": [
    "parser.parse('tei_1.xml')"
   ]
  },
  {
   "cell_type": "code",
   "execution_count": 9,
   "metadata": {},
   "outputs": [],
   "source": [
    "class TEIHandler2(xml.sax.ContentHandler):\n",
    "    def __init__(self):\n",
    "        self.body_seen = False\n",
    "    def startElement(self, tag, attributes):\n",
    "        if tag == \"body\":\n",
    "            print(\"Starting body element!\")\n",
    "            self.body_seen = True\n",
    "        if self.body_seen and tag == \"p\":\n",
    "            print(\"Starting paragraph element in the body!\")"
   ]
  },
  {
   "cell_type": "code",
   "execution_count": 10,
   "metadata": {},
   "outputs": [
    {
     "name": "stdout",
     "output_type": "stream",
     "text": [
      "Starting body element!\n",
      "Starting paragraph element in the body!\n",
      "Starting paragraph element in the body!\n"
     ]
    }
   ],
   "source": [
    "parser.setContentHandler(TEIHandler2())\n",
    "parser.parse(\"tei_1.xml\")"
   ]
  },
  {
   "cell_type": "code",
   "execution_count": 11,
   "metadata": {},
   "outputs": [
    {
     "name": "stdout",
     "output_type": "stream",
     "text": [
      "Starting body element!\n",
      "Starting paragraph element in the body!\n",
      "Paragraph element is ending in the body!\n",
      "Starting paragraph element in the body!\n",
      "Paragraph element is ending in the body!\n"
     ]
    }
   ],
   "source": [
    "class TEIHandler2withEnd( TEIHandler2 ):\n",
    "    def endElement(self, tag):\n",
    "        if self.body_seen and tag == \"p\":\n",
    "            print(\"Paragraph element is ending in the body!\")\n",
    "\n",
    "parser.setContentHandler(TEIHandler2withEnd())\n",
    "parser.parse(\"tei_1.xml\")"
   ]
  },
  {
   "cell_type": "code",
   "execution_count": 12,
   "metadata": {},
   "outputs": [
    {
     "name": "stdout",
     "output_type": "stream",
     "text": [
      "Starting body element!\n",
      "Starting paragraph element in the body!\n",
      ">>> Paragraph one is refreshingly short.\n",
      "Paragraph element is ending in the body!\n",
      "Starting paragraph element in the body!\n",
      ">>> Paragraph two is even shorter.\n",
      "Paragraph element is ending in the body!\n"
     ]
    }
   ],
   "source": [
    "class TEIHandler2withEndAndText( TEIHandler2withEnd ):\n",
    "    def characters(self, content):\n",
    "        if self.body_seen and content.strip() != \"\":\n",
    "            print(\">>> \"+content)\n",
    "\n",
    "parser.setContentHandler(TEIHandler2withEndAndText())\n",
    "parser.parse(\"tei_1.xml\")"
   ]
  },
  {
   "cell_type": "code",
   "execution_count": 13,
   "metadata": {},
   "outputs": [],
   "source": [
    "import codecs"
   ]
  },
  {
   "cell_type": "code",
   "execution_count": 17,
   "metadata": {},
   "outputs": [],
   "source": [
    "tei_2 = codecs.open(\"/home/mark/Documents/digital-philology/macbeth/macbeth_xml/macbeth.xml\", \"r\", \"utf-8\")"
   ]
  },
  {
   "cell_type": "code",
   "execution_count": 1,
   "metadata": {},
   "outputs": [],
   "source": [
    "from bs4 import BeautifulSoup as BS"
   ]
  },
  {
   "cell_type": "code",
   "execution_count": 2,
   "metadata": {},
   "outputs": [
    {
     "name": "stderr",
     "output_type": "stream",
     "text": [
      "/home/mark/Downloads/ENTER/envs/dphil/lib/python3.11/site-packages/bs4/builder/__init__.py:545: XMLParsedAsHTMLWarning: It looks like you're parsing an XML document using an HTML parser. If this really is an HTML document (maybe it's XHTML?), you can ignore or filter this warning. If it's XML, you should know that using an XML parser will be more reliable. To parse this document as XML, make sure you have the lxml package installed, and pass the keyword argument `features=\"xml\"` into the BeautifulSoup constructor.\n",
      "  warnings.warn(\n"
     ]
    }
   ],
   "source": [
    "soup = BS(open(\"/home/mark/Documents/digital-philology/macbeth/macbeth_content/Mac.xml\", 'r'))"
   ]
  },
  {
   "cell_type": "code",
   "execution_count": 3,
   "metadata": {},
   "outputs": [
    {
     "data": {
      "text/plain": [
       "bs4.BeautifulSoup"
      ]
     },
     "execution_count": 3,
     "metadata": {},
     "output_type": "execute_result"
    }
   ],
   "source": [
    "type(soup)"
   ]
  },
  {
   "cell_type": "code",
   "execution_count": 7,
   "metadata": {},
   "outputs": [
    {
     "data": {
      "text/plain": [
       "list"
      ]
     },
     "execution_count": 7,
     "metadata": {},
     "output_type": "execute_result"
    }
   ],
   "source": [
    "type(soup.contents)"
   ]
  },
  {
   "cell_type": "code",
   "execution_count": 5,
   "metadata": {},
   "outputs": [
    {
     "data": {
      "text/plain": [
       "2"
      ]
     },
     "execution_count": 5,
     "metadata": {},
     "output_type": "execute_result"
    }
   ],
   "source": [
    "len(soup.contents)"
   ]
  },
  {
   "cell_type": "code",
   "execution_count": 6,
   "metadata": {},
   "outputs": [
    {
     "data": {
      "text/plain": [
       "'xml-stylesheet type=\"text/xsl\" href=\"fdt.xsl\"?'"
      ]
     },
     "execution_count": 6,
     "metadata": {},
     "output_type": "execute_result"
    }
   ],
   "source": [
    "soup.contents[0]"
   ]
  },
  {
   "cell_type": "code",
   "execution_count": null,
   "metadata": {},
   "outputs": [],
   "source": []
  },
  {
   "cell_type": "code",
   "execution_count": null,
   "metadata": {},
   "outputs": [],
   "source": []
  }
 ],
 "metadata": {
  "kernelspec": {
   "display_name": "dphil",
   "language": "python",
   "name": "python3"
  },
  "language_info": {
   "codemirror_mode": {
    "name": "ipython",
    "version": 3
   },
   "file_extension": ".py",
   "mimetype": "text/x-python",
   "name": "python",
   "nbconvert_exporter": "python",
   "pygments_lexer": "ipython3",
   "version": "3.11.3"
  },
  "orig_nbformat": 4
 },
 "nbformat": 4,
 "nbformat_minor": 2
}
