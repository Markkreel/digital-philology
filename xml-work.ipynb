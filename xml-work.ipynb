{
 "cells": [
  {
   "cell_type": "code",
   "execution_count": 1,
   "metadata": {},
   "outputs": [],
   "source": [
    "plays_xml = \"\"\"<plays completeness=\"incomplete\">\n",
    "<comedies>\n",
    "    <play year=\"1602\">All's Well That Ends Well</play>\n",
    "    <play year=\"1595\">Midsummer Night's Dream</play>\n",
    "</comedies>\n",
    "<histories>\n",
    "    <play year=\"1598\">Henry V</play>\n",
    "    <play year=\"1592\">Richard III</play>\n",
    "</histories>\n",
    "<tragedies>\n",
    "    <play year=\"1605\">Macbeth</play>\n",
    "    <play year=\"1593\">Titus Andronicus</play>\n",
    "</tragedies>\n",
    "</plays>\"\"\""
   ]
  },
  {
   "cell_type": "code",
   "execution_count": 2,
   "metadata": {},
   "outputs": [
    {
     "data": {
      "text/plain": [
       "384"
      ]
     },
     "execution_count": 2,
     "metadata": {},
     "output_type": "execute_result"
    }
   ],
   "source": [
    "len(plays_xml)"
   ]
  },
  {
   "cell_type": "code",
   "execution_count": 6,
   "metadata": {},
   "outputs": [
    {
     "data": {
      "text/plain": [
       "'<plays completeness=\"incomplete\">\\n<comedies>\\n'"
      ]
     },
     "execution_count": 6,
     "metadata": {},
     "output_type": "execute_result"
    }
   ],
   "source": [
    "plays_xml[0:45]"
   ]
  },
  {
   "cell_type": "code",
   "execution_count": 7,
   "metadata": {},
   "outputs": [],
   "source": [
    "import xml.etree.ElementTree as ET"
   ]
  },
  {
   "cell_type": "code",
   "execution_count": 10,
   "metadata": {},
   "outputs": [
    {
     "name": "stdout",
     "output_type": "stream",
     "text": [
      "<Element 'plays' at 0x7f0dc84dfc90>\n"
     ]
    }
   ],
   "source": [
    "doc = ET.fromstring(plays_xml)\n",
    "print(doc)"
   ]
  },
  {
   "cell_type": "code",
   "execution_count": 11,
   "metadata": {},
   "outputs": [
    {
     "name": "stdout",
     "output_type": "stream",
     "text": [
      "<class 'xml.etree.ElementTree.Element'>\n"
     ]
    }
   ],
   "source": [
    "print(type(doc))"
   ]
  },
  {
   "cell_type": "code",
   "execution_count": 12,
   "metadata": {},
   "outputs": [
    {
     "data": {
      "text/plain": [
       "3"
      ]
     },
     "execution_count": 12,
     "metadata": {},
     "output_type": "execute_result"
    }
   ],
   "source": [
    "len(doc)"
   ]
  },
  {
   "cell_type": "code",
   "execution_count": 13,
   "metadata": {},
   "outputs": [
    {
     "name": "stdout",
     "output_type": "stream",
     "text": [
      "plays\n"
     ]
    }
   ],
   "source": [
    "print(doc.tag)"
   ]
  },
  {
   "cell_type": "code",
   "execution_count": 14,
   "metadata": {},
   "outputs": [
    {
     "data": {
      "text/plain": [
       "b'<plays completeness=\"incomplete\">\\n<comedies>\\n'"
      ]
     },
     "execution_count": 14,
     "metadata": {},
     "output_type": "execute_result"
    }
   ],
   "source": [
    "ET.tostring(doc)[0:45]"
   ]
  },
  {
   "cell_type": "code",
   "execution_count": 15,
   "metadata": {},
   "outputs": [
    {
     "name": "stdout",
     "output_type": "stream",
     "text": [
      "<plays completeness=\"incomplete\">\n",
      "<comedies>\n",
      "    <play year=\"1602\">All's Well That Ends Well</play>\n",
      "    <play year=\"1595\">Midsummer Night's Dream</play>\n",
      "</comedies>\n",
      "<histories>\n",
      "    <play year=\"1598\">Henry V</play>\n",
      "    <play year=\"1592\">Richard III</play>\n",
      "</histories>\n",
      "<tragedies>\n",
      "    <play year=\"1605\">Macbeth</play>\n",
      "    <play year=\"1593\">Titus Andronicus</play>\n",
      "</tragedies>\n",
      "</plays>\n"
     ]
    }
   ],
   "source": [
    "ET.dump(doc)"
   ]
  },
  {
   "cell_type": "code",
   "execution_count": 16,
   "metadata": {},
   "outputs": [
    {
     "data": {
      "text/plain": [
       "{'completeness': 'incomplete'}"
      ]
     },
     "execution_count": 16,
     "metadata": {},
     "output_type": "execute_result"
    }
   ],
   "source": [
    "doc.attrib"
   ]
  },
  {
   "cell_type": "code",
   "execution_count": 17,
   "metadata": {},
   "outputs": [
    {
     "data": {
      "text/plain": [
       "'incomplete'"
      ]
     },
     "execution_count": 17,
     "metadata": {},
     "output_type": "execute_result"
    }
   ],
   "source": [
    "doc.get(\"completeness\")"
   ]
  },
  {
   "cell_type": "code",
   "execution_count": 18,
   "metadata": {},
   "outputs": [
    {
     "name": "stdout",
     "output_type": "stream",
     "text": [
      "<plays completeness=\"incomplete\" new-attribute=\"Python rules!\">\n",
      "<comedies>\n",
      "    <play year=\"1602\">All's Well That Ends Well</play>\n",
      "    <play year=\"1595\">Midsummer Night's Dream</play>\n",
      "</comedies>\n",
      "<histories>\n",
      "    <play year=\"1598\">Henry V</play>\n",
      "    <play year=\"1592\">Richard III</play>\n",
      "</histories>\n",
      "<tragedies>\n",
      "    <play year=\"1605\">Macbeth</play>\n",
      "    <play year=\"1593\">Titus Andronicus</play>\n",
      "</tragedies>\n",
      "</plays>\n"
     ]
    }
   ],
   "source": [
    "doc.set(\"new-attribute\", \"Python rules!\")\n",
    "ET.dump(doc)"
   ]
  },
  {
   "cell_type": "code",
   "execution_count": 19,
   "metadata": {},
   "outputs": [
    {
     "data": {
      "text/plain": [
       "<Element 'comedies' at 0x7f0dc84df060>"
      ]
     },
     "execution_count": 19,
     "metadata": {},
     "output_type": "execute_result"
    }
   ],
   "source": [
    "doc[0]"
   ]
  },
  {
   "cell_type": "code",
   "execution_count": 20,
   "metadata": {},
   "outputs": [
    {
     "data": {
      "text/plain": [
       "<Element 'tragedies' at 0x7f0dc84df9c0>"
      ]
     },
     "execution_count": 20,
     "metadata": {},
     "output_type": "execute_result"
    }
   ],
   "source": [
    "doc[-1]"
   ]
  },
  {
   "cell_type": "code",
   "execution_count": 21,
   "metadata": {},
   "outputs": [
    {
     "name": "stdout",
     "output_type": "stream",
     "text": [
      "comedies\n",
      "histories\n",
      "tragedies\n"
     ]
    }
   ],
   "source": [
    "for genre in doc:\n",
    "    print(genre.tag)"
   ]
  },
  {
   "cell_type": "code",
   "execution_count": 23,
   "metadata": {},
   "outputs": [
    {
     "name": "stdout",
     "output_type": "stream",
     "text": [
      "comedies\n",
      "All's Well That Ends Well\n",
      "Midsummer Night's Dream\n",
      "histories\n",
      "Henry V\n",
      "Richard III\n",
      "tragedies\n",
      "Macbeth\n",
      "Titus Andronicus\n"
     ]
    }
   ],
   "source": [
    "for genre in doc:\n",
    "    print(genre.tag)\n",
    "    for item in genre:\n",
    "        print(item.text)"
   ]
  },
  {
   "cell_type": "code",
   "execution_count": 25,
   "metadata": {},
   "outputs": [
    {
     "name": "stdout",
     "output_type": "stream",
     "text": [
      "comedies\n",
      "\tAll's Well That Ends Well\n",
      "\tMidsummer Night's Dream\n",
      "histories\n",
      "\tHenry V\n",
      "\tRichard III\n",
      "tragedies\n",
      "\tMacbeth\n",
      "\tTitus Andronicus\n"
     ]
    }
   ],
   "source": [
    "for genre in doc:\n",
    "    print(genre.tag)\n",
    "    for item in genre:\n",
    "        print(\"\\t\" + item.text)"
   ]
  },
  {
   "cell_type": "code",
   "execution_count": 27,
   "metadata": {},
   "outputs": [
    {
     "name": "stdout",
     "output_type": "stream",
     "text": [
      "comedies\n",
      "\t'All's Well That Ends Well' from 1602\n",
      "\t'Midsummer Night's Dream' from 1595\n",
      "histories\n",
      "\t'Henry V' from 1598\n",
      "\t'Richard III' from 1592\n",
      "tragedies\n",
      "\t'Macbeth' from 1605\n",
      "\t'Titus Andronicus' from 1593\n"
     ]
    }
   ],
   "source": [
    "for genre in doc:\n",
    "    print(genre.tag)\n",
    "    for item in genre:\n",
    "        print(\"\\t'\" + item.text + \"' from \" + item.get(\"year\"))"
   ]
  },
  {
   "cell_type": "code",
   "execution_count": 28,
   "metadata": {},
   "outputs": [
    {
     "data": {
      "text/plain": [
       "6"
      ]
     },
     "execution_count": 28,
     "metadata": {},
     "output_type": "execute_result"
    }
   ],
   "source": [
    "data = []\n",
    "for genre in doc:\n",
    "    for item in genre:\n",
    "        data.append((item.text, item.get(\"year\"), genre.tag))\n",
    "        \n",
    "len(data)"
   ]
  },
  {
   "cell_type": "code",
   "execution_count": 29,
   "metadata": {},
   "outputs": [
    {
     "name": "stdout",
     "output_type": "stream",
     "text": [
      "<histories>\n",
      "    <play year=\"1598\">Henry V</play>\n",
      "    <play year=\"1592\">Richard III</play>\n",
      "</histories>\n"
     ]
    }
   ],
   "source": [
    "histories = doc[1]\n",
    "ET.dump(histories)"
   ]
  },
  {
   "cell_type": "code",
   "execution_count": 30,
   "metadata": {},
   "outputs": [
    {
     "data": {
      "text/plain": [
       "'play'"
      ]
     },
     "execution_count": 30,
     "metadata": {},
     "output_type": "execute_result"
    }
   ],
   "source": [
    "new_play = doc.makeelement(\"play\", {})\n",
    "new_play.tag"
   ]
  },
  {
   "cell_type": "code",
   "execution_count": 31,
   "metadata": {},
   "outputs": [],
   "source": [
    "new_play.set(\"year\", \"1596\")\n",
    "new_play.text = \"King John\""
   ]
  },
  {
   "cell_type": "code",
   "execution_count": 33,
   "metadata": {},
   "outputs": [
    {
     "name": "stdout",
     "output_type": "stream",
     "text": [
      "<histories>\n",
      "    <play year=\"1598\">Henry V</play>\n",
      "    <play year=\"1592\">Richard III</play>\n",
      "<play year=\"1596\">King John</play></histories>\n"
     ]
    }
   ],
   "source": [
    "histories.append(new_play)\n",
    "ET.dump(histories)"
   ]
  },
  {
   "cell_type": "code",
   "execution_count": 34,
   "metadata": {},
   "outputs": [
    {
     "name": "stdout",
     "output_type": "stream",
     "text": [
      "Element: histories\n",
      "Attributes: {}\n",
      "Children: \n",
      "Element: play\n",
      "Attributes: {'year': '1598'}\n",
      "Children: \n",
      "Element: play\n",
      "Attributes: {'year': '1592'}\n",
      "Children: \n",
      "Element: play\n",
      "Attributes: {'year': '1596'}\n",
      "Children: \n"
     ]
    }
   ],
   "source": [
    "def list_xml(element):\n",
    "    print(\"Element: \" + element.tag)\n",
    "    print(\"Attributes: \" + str(element.attrib))\n",
    "    print(\"Children: \")\n",
    "    for child in element:\n",
    "        list_xml(child)\n",
    "        \n",
    "list_xml(histories)"
   ]
  },
  {
   "cell_type": "code",
   "execution_count": null,
   "metadata": {},
   "outputs": [],
   "source": []
  }
 ],
 "metadata": {
  "kernelspec": {
   "display_name": "dphil",
   "language": "python",
   "name": "python3"
  },
  "language_info": {
   "codemirror_mode": {
    "name": "ipython",
    "version": 3
   },
   "file_extension": ".py",
   "mimetype": "text/x-python",
   "name": "python",
   "nbconvert_exporter": "python",
   "pygments_lexer": "ipython3",
   "version": "3.11.3"
  },
  "orig_nbformat": 4
 },
 "nbformat": 4,
 "nbformat_minor": 2
}
