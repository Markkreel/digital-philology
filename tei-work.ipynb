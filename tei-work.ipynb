{
 "cells": [
  {
   "cell_type": "code",
   "execution_count": 7,
   "metadata": {},
   "outputs": [],
   "source": [
    "tei_1 = \"\"\"\n",
    "<TEI version=\"3.3.0\"\n",
    "    xmlns=\"http://www.tei-c.org/ns/1.0\">\n",
    "    <teiHeader>\n",
    "        <fileDesc>\n",
    "            <titleStmt>\n",
    "                <title>Compact valid TEI document</title>\n",
    "            </titleStmt>\n",
    "            <publicationStmt>\n",
    "                <p>This file is published as part of the Digital Philology module.</p>\n",
    "            </publicationStmt>\n",
    "            <sourceDesc>\n",
    "                <p>No source: this is an original work.</p>\n",
    "            </sourceDesc>\n",
    "        </fileDesc>\n",
    "    </teiHeader>\n",
    "    <text>\n",
    "        <body>\n",
    "            <p>Paragraph one is refreshingly short.</p>\n",
    "            <p>Paragraph two is even shorter.</p>\n",
    "        </body>\n",
    "    </text>\n",
    "</TEI>\n",
    "\"\"\""
   ]
  },
  {
   "cell_type": "code",
   "execution_count": 8,
   "metadata": {},
   "outputs": [
    {
     "data": {
      "text/plain": [
       "668"
      ]
     },
     "execution_count": 8,
     "metadata": {},
     "output_type": "execute_result"
    }
   ],
   "source": [
    "tei_file_1 = open(\"tei_1.xml\", \"w\")\n",
    "tei_file_1.write(tei_1)"
   ]
  },
  {
   "cell_type": "code",
   "execution_count": 9,
   "metadata": {},
   "outputs": [],
   "source": [
    "tei_file_1.close()"
   ]
  },
  {
   "cell_type": "code",
   "execution_count": 10,
   "metadata": {},
   "outputs": [],
   "source": [
    "import xml.sax"
   ]
  },
  {
   "cell_type": "code",
   "execution_count": 15,
   "metadata": {},
   "outputs": [],
   "source": [
    "class TEIHandler1(xml.sax.ContentHandler):\n",
    "    def startElement(self, tag, attributes):\n",
    "        print(\"Starting \" + tag + \" element!\")"
   ]
  },
  {
   "cell_type": "code",
   "execution_count": 16,
   "metadata": {},
   "outputs": [],
   "source": [
    "parser = xml.sax.make_parser()\n",
    "parser.setFeature(xml.sax.handler.feature_namespaces, 0)"
   ]
  },
  {
   "cell_type": "code",
   "execution_count": 17,
   "metadata": {},
   "outputs": [],
   "source": [
    "parser.setContentHandler(TEIHandler1())"
   ]
  },
  {
   "cell_type": "code",
   "execution_count": 18,
   "metadata": {},
   "outputs": [
    {
     "name": "stdout",
     "output_type": "stream",
     "text": [
      "Starting TEI element!\n",
      "Starting teiHeader element!\n",
      "Starting fileDesc element!\n",
      "Starting titleStmt element!\n",
      "Starting title element!\n",
      "Starting publicationStmt element!\n",
      "Starting p element!\n",
      "Starting sourceDesc element!\n",
      "Starting p element!\n",
      "Starting text element!\n",
      "Starting body element!\n",
      "Starting p element!\n",
      "Starting p element!\n"
     ]
    }
   ],
   "source": [
    "parser.parse('tei_1.xml')"
   ]
  },
  {
   "cell_type": "code",
   "execution_count": 19,
   "metadata": {},
   "outputs": [],
   "source": [
    "class TEIHandler2(xml.sax.ContentHandler):\n",
    "    def __init__(self):\n",
    "        self.body_seen = False\n",
    "    def startElement(self, tag, attributes):\n",
    "        if tag == \"body\":\n",
    "            print(\"Starting body element!\")\n",
    "            self.body_seen = True\n",
    "        if self.body_seen and tag == \"p\":\n",
    "            print(\"Starting paragraph element in the body!\")"
   ]
  },
  {
   "cell_type": "code",
   "execution_count": 21,
   "metadata": {},
   "outputs": [
    {
     "name": "stdout",
     "output_type": "stream",
     "text": [
      "Starting body element!\n",
      "Starting paragraph element in the body!\n",
      "Starting paragraph element in the body!\n"
     ]
    }
   ],
   "source": [
    "parser.setContentHandler(TEIHandler2())\n",
    "parser.parse(\"tei_1.xml\")"
   ]
  },
  {
   "cell_type": "code",
   "execution_count": 22,
   "metadata": {},
   "outputs": [
    {
     "name": "stdout",
     "output_type": "stream",
     "text": [
      "Starting body element!\n",
      "Starting paragraph element in the body!\n",
      "Paragraph element is ending in the body!\n",
      "Starting paragraph element in the body!\n",
      "Paragraph element is ending in the body!\n"
     ]
    }
   ],
   "source": [
    "class TEIHandler2withEnd( TEIHandler2 ):\n",
    "    def endElement(self, tag):\n",
    "        if self.body_seen and tag == \"p\":\n",
    "            print(\"Paragraph element is ending in the body!\")\n",
    "\n",
    "parser.setContentHandler(TEIHandler2withEnd())\n",
    "parser.parse(\"tei_1.xml\")"
   ]
  },
  {
   "cell_type": "code",
   "execution_count": 23,
   "metadata": {},
   "outputs": [
    {
     "name": "stdout",
     "output_type": "stream",
     "text": [
      "Starting body element!\n",
      "Starting paragraph element in the body!\n",
      ">>> Paragraph one is refreshingly short.\n",
      "Paragraph element is ending in the body!\n",
      "Starting paragraph element in the body!\n",
      ">>> Paragraph two is even shorter.\n",
      "Paragraph element is ending in the body!\n"
     ]
    }
   ],
   "source": [
    "class TEIHandler2withEndAndText( TEIHandler2withEnd ):\n",
    "    def characters(self, content):\n",
    "        if self.body_seen and content.strip() != \"\":\n",
    "            print(\">>> \"+content)\n",
    "\n",
    "parser.setContentHandler(TEIHandler2withEndAndText())\n",
    "parser.parse(\"tei_1.xml\")"
   ]
  },
  {
   "cell_type": "code",
   "execution_count": 24,
   "metadata": {},
   "outputs": [],
   "source": [
    "import codecs\n",
    "import urllib.request"
   ]
  },
  {
   "cell_type": "code",
   "execution_count": 42,
   "metadata": {},
   "outputs": [
    {
     "ename": "UnicodeDecodeError",
     "evalue": "'utf-8' codec can't decode byte 0xc0 in position 10: invalid start byte",
     "output_type": "error",
     "traceback": [
      "\u001b[0;31m---------------------------------------------------------------------------\u001b[0m",
      "\u001b[0;31mUnicodeDecodeError\u001b[0m                        Traceback (most recent call last)",
      "Cell \u001b[0;32mIn[42], line 6\u001b[0m\n\u001b[1;32m      3\u001b[0m remote_file \u001b[39m=\u001b[39m urllib\u001b[39m.\u001b[39mrequest\u001b[39m.\u001b[39murlopen(url)\n\u001b[1;32m      5\u001b[0m tei_file2 \u001b[39m=\u001b[39m codecs\u001b[39m.\u001b[39mopen(\u001b[39m\"\u001b[39m\u001b[39mmacbeth.xml\u001b[39m\u001b[39m\"\u001b[39m, \u001b[39m\"\u001b[39m\u001b[39mw\u001b[39m\u001b[39m\"\u001b[39m, \u001b[39m\"\u001b[39m\u001b[39mutf-8\u001b[39m\u001b[39m\"\u001b[39m)\n\u001b[0;32m----> 6\u001b[0m tei_file2\u001b[39m.\u001b[39mwrite(remote_file\u001b[39m.\u001b[39mread()\u001b[39m.\u001b[39mdecode(\u001b[39m\"\u001b[39m\u001b[39mutf-8\u001b[39m\u001b[39m\"\u001b[39m))\n\u001b[1;32m      7\u001b[0m tei_file2\u001b[39m.\u001b[39mclose()\n",
      "\u001b[0;31mUnicodeDecodeError\u001b[0m: 'utf-8' codec can't decode byte 0xc0 in position 10: invalid start byte"
     ]
    }
   ],
   "source": [
    "url = \"https://shakespeare.folger.edu/downloads/teisimple/\" ## Download the file instead!\n",
    "url = url + \"macbeth_TEIsimple_FolgerShakespeare.xml\"\n",
    "remote_file = urllib.request.urlopen(url)\n",
    "\n",
    "tei_file2 = codecs.open(\"macbeth.xml\", \"w\", \"utf-8\")\n",
    "tei_file2.write(remote_file.read().decode(\"utf-8\"))\n",
    "tei_file2.close()"
   ]
  },
  {
   "cell_type": "code",
   "execution_count": 43,
   "metadata": {},
   "outputs": [
    {
     "ename": "SAXParseException",
     "evalue": "macbeth.xml:1:0: no element found",
     "output_type": "error",
     "traceback": [
      "\u001b[0;31m---------------------------------------------------------------------------\u001b[0m",
      "\u001b[0;31mExpatError\u001b[0m                                Traceback (most recent call last)",
      "File \u001b[0;32m~/Downloads/ENTER/envs/dphil/lib/python3.11/xml/sax/expatreader.py:217\u001b[0m, in \u001b[0;36mExpatParser.feed\u001b[0;34m(self, data, isFinal)\u001b[0m\n\u001b[1;32m    212\u001b[0m \u001b[39mtry\u001b[39;00m:\n\u001b[1;32m    213\u001b[0m     \u001b[39m# The isFinal parameter is internal to the expat reader.\u001b[39;00m\n\u001b[1;32m    214\u001b[0m     \u001b[39m# If it is set to true, expat will check validity of the entire\u001b[39;00m\n\u001b[1;32m    215\u001b[0m     \u001b[39m# document. When feeding chunks, they are not normally final -\u001b[39;00m\n\u001b[1;32m    216\u001b[0m     \u001b[39m# except when invoked from close.\u001b[39;00m\n\u001b[0;32m--> 217\u001b[0m     \u001b[39mself\u001b[39m\u001b[39m.\u001b[39m_parser\u001b[39m.\u001b[39mParse(data, isFinal)\n\u001b[1;32m    218\u001b[0m \u001b[39mexcept\u001b[39;00m expat\u001b[39m.\u001b[39merror \u001b[39mas\u001b[39;00m e:\n",
      "\u001b[0;31mExpatError\u001b[0m: no element found: line 1, column 0",
      "\nDuring handling of the above exception, another exception occurred:\n",
      "\u001b[0;31mSAXParseException\u001b[0m                         Traceback (most recent call last)",
      "Cell \u001b[0;32mIn[43], line 1\u001b[0m\n\u001b[0;32m----> 1\u001b[0m parser\u001b[39m.\u001b[39mparse(\u001b[39m\"\u001b[39m\u001b[39mmacbeth.xml\u001b[39m\u001b[39m\"\u001b[39m)\n",
      "File \u001b[0;32m~/Downloads/ENTER/envs/dphil/lib/python3.11/xml/sax/expatreader.py:111\u001b[0m, in \u001b[0;36mExpatParser.parse\u001b[0;34m(self, source)\u001b[0m\n\u001b[1;32m    109\u001b[0m     \u001b[39mself\u001b[39m\u001b[39m.\u001b[39mreset()\n\u001b[1;32m    110\u001b[0m     \u001b[39mself\u001b[39m\u001b[39m.\u001b[39m_cont_handler\u001b[39m.\u001b[39msetDocumentLocator(ExpatLocator(\u001b[39mself\u001b[39m))\n\u001b[0;32m--> 111\u001b[0m     xmlreader\u001b[39m.\u001b[39mIncrementalParser\u001b[39m.\u001b[39mparse(\u001b[39mself\u001b[39m, source)\n\u001b[1;32m    112\u001b[0m \u001b[39mexcept\u001b[39;00m:\n\u001b[1;32m    113\u001b[0m     \u001b[39m# bpo-30264: Close the source on error to not leak resources:\u001b[39;00m\n\u001b[1;32m    114\u001b[0m     \u001b[39m# xml.sax.parse() doesn't give access to the underlying parser\u001b[39;00m\n\u001b[1;32m    115\u001b[0m     \u001b[39m# to the caller\u001b[39;00m\n\u001b[1;32m    116\u001b[0m     \u001b[39mself\u001b[39m\u001b[39m.\u001b[39m_close_source()\n",
      "File \u001b[0;32m~/Downloads/ENTER/envs/dphil/lib/python3.11/xml/sax/xmlreader.py:127\u001b[0m, in \u001b[0;36mIncrementalParser.parse\u001b[0;34m(self, source)\u001b[0m\n\u001b[1;32m    125\u001b[0m     \u001b[39mself\u001b[39m\u001b[39m.\u001b[39mfeed(buffer)\n\u001b[1;32m    126\u001b[0m     buffer \u001b[39m=\u001b[39m file\u001b[39m.\u001b[39mread(\u001b[39mself\u001b[39m\u001b[39m.\u001b[39m_bufsize)\n\u001b[0;32m--> 127\u001b[0m \u001b[39mself\u001b[39m\u001b[39m.\u001b[39mclose()\n",
      "File \u001b[0;32m~/Downloads/ENTER/envs/dphil/lib/python3.11/xml/sax/expatreader.py:240\u001b[0m, in \u001b[0;36mExpatParser.close\u001b[0;34m(self)\u001b[0m\n\u001b[1;32m    238\u001b[0m     \u001b[39mreturn\u001b[39;00m\n\u001b[1;32m    239\u001b[0m \u001b[39mtry\u001b[39;00m:\n\u001b[0;32m--> 240\u001b[0m     \u001b[39mself\u001b[39m\u001b[39m.\u001b[39mfeed(\u001b[39mb\u001b[39m\u001b[39m\"\u001b[39m\u001b[39m\"\u001b[39m, isFinal\u001b[39m=\u001b[39m\u001b[39mTrue\u001b[39;00m)\n\u001b[1;32m    241\u001b[0m     \u001b[39mself\u001b[39m\u001b[39m.\u001b[39m_cont_handler\u001b[39m.\u001b[39mendDocument()\n\u001b[1;32m    242\u001b[0m     \u001b[39mself\u001b[39m\u001b[39m.\u001b[39m_parsing \u001b[39m=\u001b[39m \u001b[39mFalse\u001b[39;00m\n",
      "File \u001b[0;32m~/Downloads/ENTER/envs/dphil/lib/python3.11/xml/sax/expatreader.py:221\u001b[0m, in \u001b[0;36mExpatParser.feed\u001b[0;34m(self, data, isFinal)\u001b[0m\n\u001b[1;32m    219\u001b[0m exc \u001b[39m=\u001b[39m SAXParseException(expat\u001b[39m.\u001b[39mErrorString(e\u001b[39m.\u001b[39mcode), e, \u001b[39mself\u001b[39m)\n\u001b[1;32m    220\u001b[0m \u001b[39m# FIXME: when to invoke error()?\u001b[39;00m\n\u001b[0;32m--> 221\u001b[0m \u001b[39mself\u001b[39m\u001b[39m.\u001b[39m_err_handler\u001b[39m.\u001b[39mfatalError(exc)\n",
      "File \u001b[0;32m~/Downloads/ENTER/envs/dphil/lib/python3.11/xml/sax/handler.py:38\u001b[0m, in \u001b[0;36mErrorHandler.fatalError\u001b[0;34m(self, exception)\u001b[0m\n\u001b[1;32m     36\u001b[0m \u001b[39mdef\u001b[39;00m \u001b[39mfatalError\u001b[39m(\u001b[39mself\u001b[39m, exception):\n\u001b[1;32m     37\u001b[0m     \u001b[39m\"\u001b[39m\u001b[39mHandle a non-recoverable error.\u001b[39m\u001b[39m\"\u001b[39m\n\u001b[0;32m---> 38\u001b[0m     \u001b[39mraise\u001b[39;00m exception\n",
      "\u001b[0;31mSAXParseException\u001b[0m: macbeth.xml:1:0: no element found"
     ]
    }
   ],
   "source": [
    "parser.parse(\"macbeth.xml\")"
   ]
  },
  {
   "cell_type": "code",
   "execution_count": null,
   "metadata": {},
   "outputs": [],
   "source": []
  }
 ],
 "metadata": {
  "kernelspec": {
   "display_name": "dphil",
   "language": "python",
   "name": "python3"
  },
  "language_info": {
   "codemirror_mode": {
    "name": "ipython",
    "version": 3
   },
   "file_extension": ".py",
   "mimetype": "text/x-python",
   "name": "python",
   "nbconvert_exporter": "python",
   "pygments_lexer": "ipython3",
   "version": "3.11.3"
  },
  "orig_nbformat": 4
 },
 "nbformat": 4,
 "nbformat_minor": 2
}
