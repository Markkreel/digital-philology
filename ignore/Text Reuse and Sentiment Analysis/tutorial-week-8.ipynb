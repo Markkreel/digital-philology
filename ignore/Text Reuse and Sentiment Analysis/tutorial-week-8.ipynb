{
 "cells": [
  {
   "attachments": {},
   "cell_type": "markdown",
   "metadata": {},
   "source": [
    "# Common Subsequence"
   ]
  },
  {
   "cell_type": "code",
   "execution_count": 1,
   "metadata": {},
   "outputs": [],
   "source": [
    "from difflib import SequenceMatcher"
   ]
  },
  {
   "cell_type": "code",
   "execution_count": 2,
   "metadata": {},
   "outputs": [],
   "source": [
    "seqence1 = [\"The\", \"quick\", \"brown\", \"fox\", \"jumps\", \"over\", \"the\", \"lazy\", \"dog\", \".\"]\n",
    "seqence2 = [\"My\", \"goat\", \"jumps\", \"over\", \"the\", \"fence\", \".\"]"
   ]
  },
  {
   "cell_type": "code",
   "execution_count": 3,
   "metadata": {},
   "outputs": [],
   "source": [
    "matcher = SequenceMatcher(None, seqence1, seqence2)"
   ]
  },
  {
   "cell_type": "code",
   "execution_count": 15,
   "metadata": {},
   "outputs": [
    {
     "data": {
      "text/plain": [
       "[['jumps', 'over', 'the'], ['.'], []]"
      ]
     },
     "execution_count": 15,
     "metadata": {},
     "output_type": "execute_result"
    }
   ],
   "source": [
    "blocks = matcher.get_matching_blocks()\n",
    "[seqence1[a : a + size] for a, b, size in blocks]"
   ]
  },
  {
   "cell_type": "code",
   "execution_count": 16,
   "metadata": {},
   "outputs": [
    {
     "data": {
      "text/plain": [
       "[['jumps', 'over', 'the']]"
      ]
     },
     "execution_count": 16,
     "metadata": {},
     "output_type": "execute_result"
    }
   ],
   "source": [
    "[seqence1[a : a + size] for a, b, size in blocks if size > 1]"
   ]
  },
  {
   "cell_type": "code",
   "execution_count": 17,
   "metadata": {},
   "outputs": [],
   "source": [
    "sequence3 = \"Here we meet again!\".split()\n",
    "sequence4 = \"When will we meet again?\".split()"
   ]
  },
  {
   "cell_type": "code",
   "execution_count": 18,
   "metadata": {},
   "outputs": [
    {
     "data": {
      "text/plain": [
       "[['we', 'meet']]"
      ]
     },
     "execution_count": 18,
     "metadata": {},
     "output_type": "execute_result"
    }
   ],
   "source": [
    "blocks = SequenceMatcher(None, sequence3, sequence4).get_matching_blocks()\n",
    "[sequence3[a : a + size] for a, b, size in blocks if size > 1]"
   ]
  },
  {
   "cell_type": "code",
   "execution_count": 19,
   "metadata": {},
   "outputs": [],
   "source": [
    "import re"
   ]
  },
  {
   "cell_type": "code",
   "execution_count": 24,
   "metadata": {},
   "outputs": [],
   "source": [
    "sequence5 = re.split(\"\\\\b\", \"Here we meet again!\")\n",
    "sequence6 = re.split(\"\\\\b\", \"When will we meet again?\")"
   ]
  },
  {
   "cell_type": "code",
   "execution_count": 25,
   "metadata": {},
   "outputs": [
    {
     "data": {
      "text/plain": [
       "[[' ', 'we', ' ', 'meet', ' ', 'again']]"
      ]
     },
     "execution_count": 25,
     "metadata": {},
     "output_type": "execute_result"
    }
   ],
   "source": [
    "blocks = SequenceMatcher(None, sequence5, sequence6).get_matching_blocks()\n",
    "[sequence5[a : a + size] for a, b, size in blocks if size > 1]"
   ]
  },
  {
   "cell_type": "code",
   "execution_count": 26,
   "metadata": {},
   "outputs": [],
   "source": [
    "def max_block_length(sequences):\n",
    "    matrix = []\n",
    "    for sequence1 in sequences:\n",
    "        line = []\n",
    "        for sequence2 in sequences:\n",
    "            blocks = SequenceMatcher(None, sequence1, sequence2).get_matching_blocks()\n",
    "            block_sizes = [size for a, b, size in blocks]\n",
    "            line.append(max(block_sizes))\n",
    "        matrix.append(line)\n",
    "    return matrix"
   ]
  },
  {
   "cell_type": "code",
   "execution_count": 27,
   "metadata": {},
   "outputs": [
    {
     "data": {
      "text/plain": [
       "[[6, 3, 2, 2], [3, 6, 1, 2], [2, 1, 5, 3], [2, 2, 3, 6]]"
      ]
     },
     "execution_count": 27,
     "metadata": {},
     "output_type": "execute_result"
    }
   ],
   "source": [
    "sequences = [\n",
    "\"I like Digital Humanities a lot!\".split(),\n",
    "\"I like Computational Humanities a lot!\".split(),\n",
    "\"I love Digital Humanities dearly!\".split(),\n",
    "\"I love Digital Philology a lot!\".split(),\n",
    "]\n",
    "matchlengths = max_block_length(sequences)\n",
    "matchlengths"
   ]
  },
  {
   "cell_type": "code",
   "execution_count": 28,
   "metadata": {},
   "outputs": [],
   "source": [
    "import matplotlib.pyplot as plt"
   ]
  },
  {
   "cell_type": "code",
   "execution_count": 29,
   "metadata": {},
   "outputs": [
    {
     "data": {
      "image/png": "[encoded data removed]",
      "text/plain": [
       "<Figure size 480x480 with 1 Axes>"
      ]
     },
     "metadata": {},
     "output_type": "display_data"
    }
   ],
   "source": [
    "plt.matshow(matchlengths)\n",
    "plt.show()"
   ]
  },
  {
   "cell_type": "code",
   "execution_count": 30,
   "metadata": {},
   "outputs": [],
   "source": [
    "import codecs\n",
    "import xml.etree.ElementTree as ElementTree\n",
    "tei_header, tei_text = ElementTree.fromstring(\n",
    "codecs.open(\"/home/mark/Documents/digital-philology/macbeth/macbeth_content/Mac.xml\", \"r\", \"utf-8\").read()\n",
    ")\n",
    "def xp(node, path):\n",
    "    return node.findall(\".\" + path, {\"\": \"http://www.tei-c.org/ns/1.0\"})"
   ]
  },
  {
   "cell_type": "code",
   "execution_count": 31,
   "metadata": {},
   "outputs": [
    {
     "data": {
      "text/plain": [
       "649"
      ]
     },
     "execution_count": 31,
     "metadata": {},
     "output_type": "execute_result"
    }
   ],
   "source": [
    "speeches = xp(tei_text, \"//sp\")\n",
    "sequences = [[word.text for word in xp(speech, \"//w\")] for speech in speeches]\n",
    "len(speeches)"
   ]
  },
  {
   "cell_type": "code",
   "execution_count": 33,
   "metadata": {},
   "outputs": [
    {
     "data": {
      "text/plain": [
       "[14,\n",
       " 12,\n",
       " 10,\n",
       " 5,\n",
       " 5,\n",
       " 7,\n",
       " 5,\n",
       " 4,\n",
       " 3,\n",
       " 15,\n",
       " 20,\n",
       " 33,\n",
       " 119,\n",
       " 6,\n",
       " 63,\n",
       " 9,\n",
       " 57,\n",
       " 33,\n",
       " 6,\n",
       " 18,\n",
       " 5,\n",
       " 6,\n",
       " 66,\n",
       " 3,\n",
       " 32,\n",
       " 24,\n",
       " 5,\n",
       " 9,\n",
       " 7,\n",
       " 4,\n",
       " 5,\n",
       " 57,\n",
       " 7,\n",
       " 5,\n",
       " 5,\n",
       " 73,\n",
       " 6,\n",
       " 14,\n",
       " 9,\n",
       " 41,\n",
       " 11,\n",
       " 76,\n",
       " 8,\n",
       " 11,\n",
       " 11,\n",
       " 10,\n",
       " 93,\n",
       " 3,\n",
       " 3,\n",
       " 3,\n",
       " 7,\n",
       " 8,\n",
       " 16,\n",
       " 7,\n",
       " 73,\n",
       " 18,\n",
       " 18,\n",
       " 23,\n",
       " 6,\n",
       " 5,\n",
       " 10,\n",
       " 9,\n",
       " 93,\n",
       " 22,\n",
       " 30,\n",
       " 7,\n",
       " 14,\n",
       " 59,\n",
       " 46,\n",
       " 54,\n",
       " 115,\n",
       " 6,\n",
       " 16,\n",
       " 21,\n",
       " 15,\n",
       " 8,\n",
       " 60,\n",
       " 3,\n",
       " 6,\n",
       " 13,\n",
       " 73,\n",
       " 91,\n",
       " 48,\n",
       " 45,\n",
       " 10,\n",
       " 72,\n",
       " 32,\n",
       " 4,\n",
       " 58,\n",
       " 39,\n",
       " 269,\n",
       " 6,\n",
       " 23,\n",
       " 34,\n",
       " 170,\n",
       " 8,\n",
       " 6,\n",
       " 5,\n",
       " 85,\n",
       " 5,\n",
       " 19,\n",
       " 18,\n",
       " 53,\n",
       " 41,\n",
       " 49,\n",
       " 49,\n",
       " 27,\n",
       " 28,\n",
       " 226,\n",
       " 12,\n",
       " 6,\n",
       " 7,\n",
       " 40,\n",
       " 90,\n",
       " 18,\n",
       " 114,\n",
       " 5,\n",
       " 99,\n",
       " 42,\n",
       " 19,\n",
       " 32,\n",
       " 6,\n",
       " 11,\n",
       " 7,\n",
       " 7,\n",
       " 67,\n",
       " 3,\n",
       " 44,\n",
       " 16,\n",
       " 19,\n",
       " 31,\n",
       " 5,\n",
       " 16,\n",
       " 23,\n",
       " 5,\n",
       " 7,\n",
       " 291,\n",
       " 72,\n",
       " 6,\n",
       " 52,\n",
       " 12,\n",
       " 15,\n",
       " 2,\n",
       " 3,\n",
       " 4,\n",
       " 3,\n",
       " 8,\n",
       " 3,\n",
       " 6,\n",
       " 10,\n",
       " 35,\n",
       " 7,\n",
       " 34,\n",
       " 7,\n",
       " 20,\n",
       " 17,\n",
       " 48,\n",
       " 6,\n",
       " 27,\n",
       " 58,\n",
       " 21,\n",
       " 46,\n",
       " 52,\n",
       " 76,\n",
       " 20,\n",
       " 185,\n",
       " 17,\n",
       " 20,\n",
       " 8,\n",
       " 79,\n",
       " 10,\n",
       " 41,\n",
       " 15,\n",
       " 5,\n",
       " 4,\n",
       " 7,\n",
       " 3,\n",
       " 16,\n",
       " 6,\n",
       " 14,\n",
       " 12,\n",
       " 12,\n",
       " 6,\n",
       " 7,\n",
       " 60,\n",
       " 5,\n",
       " 10,\n",
       " 13,\n",
       " 6,\n",
       " 25,\n",
       " 8,\n",
       " 5,\n",
       " 79,\n",
       " 20,\n",
       " 34,\n",
       " 8,\n",
       " 16,\n",
       " 51,\n",
       " 4,\n",
       " 26,\n",
       " 5,\n",
       " 4,\n",
       " 45,\n",
       " 15,\n",
       " 5,\n",
       " 87,\n",
       " 6,\n",
       " 5,\n",
       " 18,\n",
       " 30,\n",
       " 13,\n",
       " 62,\n",
       " 5,\n",
       " 3,\n",
       " 13,\n",
       " 3,\n",
       " 27,\n",
       " 28,\n",
       " 46,\n",
       " 31,\n",
       " 52,\n",
       " 30,\n",
       " 37,\n",
       " 8,\n",
       " 27,\n",
       " 5,\n",
       " 11,\n",
       " 6,\n",
       " 9,\n",
       " 24,\n",
       " 24,\n",
       " 12,\n",
       " 5,\n",
       " 15,\n",
       " 5,\n",
       " 6,\n",
       " 5,\n",
       " 19,\n",
       " 3,\n",
       " 20,\n",
       " 85,\n",
       " 5,\n",
       " 20,\n",
       " 13,\n",
       " 20,\n",
       " 5,\n",
       " 5,\n",
       " 30,\n",
       " 35,\n",
       " 5,\n",
       " 6,\n",
       " 53,\n",
       " 11,\n",
       " 72,\n",
       " 9,\n",
       " 241,\n",
       " 7,\n",
       " 81,\n",
       " 8,\n",
       " 58,\n",
       " 7,\n",
       " 130,\n",
       " 30,\n",
       " 29,\n",
       " 9,\n",
       " 4,\n",
       " 91,\n",
       " 11,\n",
       " 5,\n",
       " 97,\n",
       " 6,\n",
       " 26,\n",
       " 7,\n",
       " 7,\n",
       " 15,\n",
       " 6,\n",
       " 70,\n",
       " 114,\n",
       " 20,\n",
       " 50,\n",
       " 6,\n",
       " 18,\n",
       " 9,\n",
       " 45,\n",
       " 6,\n",
       " 94,\n",
       " 10,\n",
       " 3,\n",
       " 26,\n",
       " 34,\n",
       " 6,\n",
       " 8,\n",
       " 19,\n",
       " 6,\n",
       " 23,\n",
       " 6,\n",
       " 4,\n",
       " 5,\n",
       " 8,\n",
       " 6,\n",
       " 14,\n",
       " 8,\n",
       " 7,\n",
       " 10,\n",
       " 10,\n",
       " 11,\n",
       " 15,\n",
       " 5,\n",
       " 25,\n",
       " 18,\n",
       " 40,\n",
       " 4,\n",
       " 11,\n",
       " 12,\n",
       " 25,\n",
       " 7,\n",
       " 45,\n",
       " 24,\n",
       " 34,\n",
       " 46,\n",
       " 16,\n",
       " 7,\n",
       " 28,\n",
       " 20,\n",
       " 4,\n",
       " 7,\n",
       " 2,\n",
       " 12,\n",
       " 7,\n",
       " 5,\n",
       " 18,\n",
       " 8,\n",
       " 57,\n",
       " 16,\n",
       " 65,\n",
       " 44,\n",
       " 7,\n",
       " 8,\n",
       " 5,\n",
       " 76,\n",
       " 11,\n",
       " 77,\n",
       " 6,\n",
       " 34,\n",
       " 24,\n",
       " 81,\n",
       " 15,\n",
       " 50,\n",
       " 5,\n",
       " 31,\n",
       " 9,\n",
       " 8,\n",
       " 44,\n",
       " 10,\n",
       " 13,\n",
       " 8,\n",
       " 103,\n",
       " 10,\n",
       " 24,\n",
       " 9,\n",
       " 235,\n",
       " 11,\n",
       " 200,\n",
       " 121,\n",
       " 5,\n",
       " 33,\n",
       " 50,\n",
       " 7,\n",
       " 8,\n",
       " 8,\n",
       " 8,\n",
       " 33,\n",
       " 11,\n",
       " 49,\n",
       " 11,\n",
       " 72,\n",
       " 11,\n",
       " 15,\n",
       " 34,\n",
       " 17,\n",
       " 14,\n",
       " 6,\n",
       " 85,\n",
       " 3,\n",
       " 3,\n",
       " 4,\n",
       " 16,\n",
       " 7,\n",
       " 23,\n",
       " 10,\n",
       " 6,\n",
       " 13,\n",
       " 15,\n",
       " 19,\n",
       " 14,\n",
       " 5,\n",
       " 8,\n",
       " 22,\n",
       " 76,\n",
       " 7,\n",
       " 34,\n",
       " 73,\n",
       " 6,\n",
       " 30,\n",
       " 3,\n",
       " 3,\n",
       " 3,\n",
       " 13,\n",
       " 116,\n",
       " 55,\n",
       " 19,\n",
       " 5,\n",
       " 6,\n",
       " 4,\n",
       " 6,\n",
       " 5,\n",
       " 27,\n",
       " 16,\n",
       " 4,\n",
       " 5,\n",
       " 108,\n",
       " 12,\n",
       " 6,\n",
       " 20,\n",
       " 12,\n",
       " 75,\n",
       " 108,\n",
       " 9,\n",
       " 25,\n",
       " 16,\n",
       " 5,\n",
       " 7,\n",
       " 11,\n",
       " 17,\n",
       " 21,\n",
       " 13,\n",
       " 9,\n",
       " 11,\n",
       " 8,\n",
       " 17,\n",
       " 7,\n",
       " 6,\n",
       " 5,\n",
       " 8,\n",
       " 8,\n",
       " 14,\n",
       " 11,\n",
       " 4,\n",
       " 5,\n",
       " 6,\n",
       " 24,\n",
       " 16,\n",
       " 26,\n",
       " 7,\n",
       " 76,\n",
       " 58,\n",
       " 5,\n",
       " 16,\n",
       " 4,\n",
       " 6,\n",
       " 10,\n",
       " 11,\n",
       " 15,\n",
       " 49,\n",
       " 83,\n",
       " 5,\n",
       " 53,\n",
       " 6,\n",
       " 52,\n",
       " 54,\n",
       " 101,\n",
       " 5,\n",
       " 46,\n",
       " 19,\n",
       " 66,\n",
       " 79,\n",
       " 62,\n",
       " 47,\n",
       " 63,\n",
       " 4,\n",
       " 16,\n",
       " 90,\n",
       " 179,\n",
       " 12,\n",
       " 11,\n",
       " 36,\n",
       " 5,\n",
       " 6,\n",
       " 99,\n",
       " 5,\n",
       " 9,\n",
       " 6,\n",
       " 15,\n",
       " 3,\n",
       " 6,\n",
       " 76,\n",
       " 9,\n",
       " 5,\n",
       " 16,\n",
       " 5,\n",
       " 3,\n",
       " 5,\n",
       " 3,\n",
       " 9,\n",
       " 12,\n",
       " 11,\n",
       " 63,\n",
       " 31,\n",
       " 29,\n",
       " 17,\n",
       " 19,\n",
       " 15,\n",
       " 22,\n",
       " 6,\n",
       " 29,\n",
       " 29,\n",
       " 4,\n",
       " 9,\n",
       " 11,\n",
       " 4,\n",
       " 16,\n",
       " 28,\n",
       " 6,\n",
       " 66,\n",
       " 19,\n",
       " 46,\n",
       " 49,\n",
       " 22,\n",
       " 51,\n",
       " 40,\n",
       " 10,\n",
       " 11,\n",
       " 39,\n",
       " 7,\n",
       " 15,\n",
       " 7,\n",
       " 7,\n",
       " 13,\n",
       " 26,\n",
       " 6,\n",
       " 19,\n",
       " 59,\n",
       " 5,\n",
       " 36,\n",
       " 12,\n",
       " 19,\n",
       " 23,\n",
       " 11,\n",
       " 18,\n",
       " 4,\n",
       " 6,\n",
       " 25,\n",
       " 27,\n",
       " 3,\n",
       " 30,\n",
       " 7,\n",
       " 2,\n",
       " 69,\n",
       " 5,\n",
       " 37,\n",
       " 14,\n",
       " 9,\n",
       " 31,\n",
       " 5,\n",
       " 34,\n",
       " 46,\n",
       " 24,\n",
       " 33,\n",
       " 22,\n",
       " 101,\n",
       " 5,\n",
       " 3,\n",
       " 3,\n",
       " 31,\n",
       " 7,\n",
       " 88,\n",
       " 5,\n",
       " 4,\n",
       " 9,\n",
       " 15,\n",
       " 5,\n",
       " 28,\n",
       " 19,\n",
       " 47,\n",
       " 8,\n",
       " 91,\n",
       " 12,\n",
       " 20,\n",
       " 16,\n",
       " 15,\n",
       " 5,\n",
       " 7,\n",
       " 5,\n",
       " 31,\n",
       " 5,\n",
       " 21,\n",
       " 35,\n",
       " 15,\n",
       " 39,\n",
       " 69,\n",
       " 10,\n",
       " 62,\n",
       " 7,\n",
       " 103,\n",
       " 20,\n",
       " 4,\n",
       " 22,\n",
       " 4,\n",
       " 25,\n",
       " 119,\n",
       " 47,\n",
       " 20,\n",
       " 17,\n",
       " 35,\n",
       " 6,\n",
       " 8,\n",
       " 15,\n",
       " 4,\n",
       " 15,\n",
       " 5,\n",
       " 15,\n",
       " 23,\n",
       " 89,\n",
       " 36,\n",
       " 10,\n",
       " 5,\n",
       " 24,\n",
       " 4,\n",
       " 24,\n",
       " 20,\n",
       " 41,\n",
       " 23,\n",
       " 54,\n",
       " 36,\n",
       " 62,\n",
       " 10,\n",
       " 20,\n",
       " 8,\n",
       " 40,\n",
       " 5,\n",
       " 24,\n",
       " 6,\n",
       " 5,\n",
       " 31,\n",
       " 11,\n",
       " 24,\n",
       " 44,\n",
       " 5,\n",
       " 133]"
      ]
     },
     "execution_count": 33,
     "metadata": {},
     "output_type": "execute_result"
    }
   ],
   "source": [
    "[len(words) for words in sequences]"
   ]
  },
  {
   "cell_type": "code",
   "execution_count": 34,
   "metadata": {},
   "outputs": [
    {
     "data": {
      "image/png": "[encoded data removed]",
      "text/plain": [
       "<Figure size 480x480 with 1 Axes>"
      ]
     },
     "metadata": {},
     "output_type": "display_data"
    }
   ],
   "source": [
    "plt.matshow(max_block_length(sequences[1:20]))\n",
    "plt.show()"
   ]
  },
  {
   "cell_type": "code",
   "execution_count": 35,
   "metadata": {},
   "outputs": [
    {
     "data": {
      "image/png": "[encoded data removed]",
      "text/plain": [
       "<Figure size 480x480 with 1 Axes>"
      ]
     },
     "metadata": {},
     "output_type": "display_data"
    }
   ],
   "source": [
    "import numpy as np\n",
    "block_matrix = np.array(max_block_length(sequences))\n",
    "np.fill_diagonal(block_matrix, 0)\n",
    "plt.matshow(block_matrix)\n",
    "plt.show()"
   ]
  },
  {
   "cell_type": "code",
   "execution_count": 36,
   "metadata": {},
   "outputs": [
    {
     "data": {
      "text/plain": [
       "(array([ 43,  44, 372, 372, 374, 374, 376, 376, 435, 451]),\n",
       " array([ 44,  43, 374, 376, 372, 376, 372, 374, 451, 435]))"
      ]
     },
     "execution_count": 36,
     "metadata": {},
     "output_type": "execute_result"
    }
   ],
   "source": [
    "np.where(block_matrix > 5)"
   ]
  },
  {
   "cell_type": "code",
   "execution_count": 37,
   "metadata": {},
   "outputs": [
    {
     "data": {
      "text/plain": [
       "[(43, 44),\n",
       " (44, 43),\n",
       " (372, 374),\n",
       " (372, 376),\n",
       " (374, 372),\n",
       " (374, 376),\n",
       " (376, 372),\n",
       " (376, 374),\n",
       " (435, 451),\n",
       " (451, 435)]"
      ]
     },
     "execution_count": 37,
     "metadata": {},
     "output_type": "execute_result"
    }
   ],
   "source": [
    "a, b = np.where(block_matrix > 5)\n",
    "pairs = list(zip(a, b))\n",
    "pairs"
   ]
  },
  {
   "cell_type": "code",
   "execution_count": 38,
   "metadata": {},
   "outputs": [
    {
     "data": {
      "text/plain": [
       "[(43, 44), (372, 374), (372, 376), (374, 376), (435, 451)]"
      ]
     },
     "execution_count": 38,
     "metadata": {},
     "output_type": "execute_result"
    }
   ],
   "source": [
    "pairs = [(a, b) for a, b in pairs if a < b]\n",
    "pairs"
   ]
  },
  {
   "cell_type": "code",
   "execution_count": 39,
   "metadata": {},
   "outputs": [
    {
     "name": "stdout",
     "output_type": "stream",
     "text": [
      "More than 5 consecutive matching words:\n",
      "['FIRST', 'WITCH', 'All', 'hail', 'Macbeth', 'Hail', 'to', 'thee', 'Thane', 'of', 'Glamis']\n",
      "['SECOND', 'WITCH', 'All', 'hail', 'Macbeth', 'Hail', 'to', 'thee', 'Thane', 'of', 'Cawdor']\n",
      "More than 5 consecutive matching words:\n",
      "['ALL', 'Double', 'double', 'toil', 'and', 'trouble', 'Fire', 'burn', 'and', 'cauldron', 'bubble']\n",
      "['ALL', 'Double', 'double', 'toil', 'and', 'trouble', 'Fire', 'burn', 'and', 'cauldron', 'bubble']\n",
      "More than 5 consecutive matching words:\n",
      "['ALL', 'Double', 'double', 'toil', 'and', 'trouble', 'Fire', 'burn', 'and', 'cauldron', 'bubble']\n",
      "['ALL', 'Double', 'double', 'toil', 'and', 'trouble', 'Fire', 'burn', 'and', 'cauldron', 'bubble']\n",
      "More than 5 consecutive matching words:\n",
      "['ALL', 'Double', 'double', 'toil', 'and', 'trouble', 'Fire', 'burn', 'and', 'cauldron', 'bubble']\n",
      "['ALL', 'Double', 'double', 'toil', 'and', 'trouble', 'Fire', 'burn', 'and', 'cauldron', 'bubble']\n",
      "More than 5 consecutive matching words:\n",
      "['LADY', 'MACDUFF', 'Yes', 'he', 'is', 'dead', 'How', 'wilt', 'thou', 'do', 'for', 'a', 'father']\n",
      "['LADY', 'MACDUFF', 'Now', 'God', 'help', 'thee', 'poor', 'monkey', 'But', 'how', 'wilt', 'thou', 'do', 'for', 'a', 'father']\n"
     ]
    }
   ],
   "source": [
    "for a, b in pairs:\n",
    "    print(\"More than 5 consecutive matching words:\")\n",
    "    print(sequences[a])\n",
    "    print(sequences[b])"
   ]
  },
  {
   "attachments": {},
   "cell_type": "markdown",
   "metadata": {},
   "source": [
    "# Jaccard Coefficient"
   ]
  },
  {
   "cell_type": "code",
   "execution_count": 40,
   "metadata": {},
   "outputs": [
    {
     "data": {
      "text/plain": [
       "{3, 4}"
      ]
     },
     "execution_count": 40,
     "metadata": {},
     "output_type": "execute_result"
    }
   ],
   "source": [
    "a = {1, 2, 3, 4}\n",
    "b = {3, 4, 5, 6}\n",
    "a.intersection(b)"
   ]
  },
  {
   "cell_type": "code",
   "execution_count": 41,
   "metadata": {},
   "outputs": [
    {
     "data": {
      "text/plain": [
       "{1, 2, 3, 4, 5, 6}"
      ]
     },
     "execution_count": 41,
     "metadata": {},
     "output_type": "execute_result"
    }
   ],
   "source": [
    "a.union(b)"
   ]
  },
  {
   "cell_type": "code",
   "execution_count": 42,
   "metadata": {},
   "outputs": [],
   "source": [
    "def jaccard(a, b):\n",
    "    _a = set(a)\n",
    "    _b = set(b)\n",
    "    return len(_a.intersection(_b)) / len(_a.union(_b))"
   ]
  },
  {
   "cell_type": "code",
   "execution_count": 45,
   "metadata": {},
   "outputs": [
    {
     "data": {
      "text/plain": [
       "0.3076923076923077"
      ]
     },
     "execution_count": 45,
     "metadata": {},
     "output_type": "execute_result"
    }
   ],
   "source": [
    "seqence1 = [\"The\", \"quick\", \"brown\", \"fox\", \"jumps\", \"over\", \"the\", \"lazy\", \"dog\", \".\"]\n",
    "seqence2 = [\"My\", \"goat\", \"jumps\", \"over\", \"the\", \"fence\", \".\"]\n",
    "\n",
    "jaccard(seqence1, seqence2)"
   ]
  },
  {
   "cell_type": "code",
   "execution_count": 46,
   "metadata": {},
   "outputs": [
    {
     "data": {
      "text/plain": [
       "1.0"
      ]
     },
     "execution_count": 46,
     "metadata": {},
     "output_type": "execute_result"
    }
   ],
   "source": [
    "jaccard(seqence1, seqence1)"
   ]
  },
  {
   "cell_type": "code",
   "execution_count": 47,
   "metadata": {},
   "outputs": [],
   "source": [
    "def jaccard(a, b):\n",
    "    if len(a) + len(b) == 0:\n",
    "        return 0\n",
    "    _a = set(a)\n",
    "    _b = set(b)\n",
    "    return len(_a.intersection(_b)) / len(_a.union(_b))"
   ]
  },
  {
   "cell_type": "code",
   "execution_count": 52,
   "metadata": {},
   "outputs": [
    {
     "data": {
      "text/plain": [
       "[[1, 4, 5], [7, 9, 9]]"
      ]
     },
     "execution_count": 52,
     "metadata": {},
     "output_type": "execute_result"
    }
   ],
   "source": [
    "a = [1, 2, 2, 3, 4, 5]\n",
    "b = [2, 2, 3, 7, 9, 9]\n",
    "\n",
    "distinct_a = a.copy()\n",
    "for item in b:\n",
    "    if item in distinct_a:\n",
    "        distinct_a.remove(item)\n",
    "distinct_b = b.copy()\n",
    "\n",
    "for item in a:\n",
    "    if item in distinct_b:\n",
    "        distinct_b.remove(item)\n",
    "\n",
    "[distinct_a, distinct_b]"
   ]
  },
  {
   "cell_type": "code",
   "execution_count": 53,
   "metadata": {},
   "outputs": [
    {
     "data": {
      "text/plain": [
       "[[2, 2, 3], [2, 2, 3]]"
      ]
     },
     "execution_count": 53,
     "metadata": {},
     "output_type": "execute_result"
    }
   ],
   "source": [
    "for item in distinct_a:\n",
    "    if item in a:\n",
    "        a.remove(item)\n",
    "for item in distinct_b:\n",
    "    if item in b:\n",
    "        b.remove(item)\n",
    "        \n",
    "[a, b]"
   ]
  },
  {
   "cell_type": "code",
   "execution_count": 54,
   "metadata": {},
   "outputs": [],
   "source": [
    "def bag_jaccard(a, b):\n",
    "    total_length = len(a) + len(b)\n",
    "    if total_length == 0:\n",
    "        return 0\n",
    "\n",
    "    distinct_a = a.copy()\n",
    "    for item in b:\n",
    "        if item in distinct_a:\n",
    "            distinct_a.remove(item)\n",
    "\n",
    "    distinct_b = b.copy()\n",
    "    for item in a:\n",
    "        if item in distinct_b:\n",
    "            distinct_b.remove(item)\n",
    "\n",
    "    for item in distinct_a:\n",
    "        if item in a:\n",
    "            a.remove(item)\n",
    "        return len(a) / total_length"
   ]
  },
  {
   "cell_type": "code",
   "execution_count": 78,
   "metadata": {},
   "outputs": [
    {
     "data": {
      "text/plain": [
       "0.8571428571428571"
      ]
     },
     "execution_count": 78,
     "metadata": {},
     "output_type": "execute_result"
    }
   ],
   "source": [
    "seqence1 = \"Well that is a weird person\".split()\n",
    "seqence2 = \"Well that is not a weird person\".split()\n",
    "\n",
    "jaccard(seqence1, seqence2)"
   ]
  },
  {
   "cell_type": "code",
   "execution_count": 79,
   "metadata": {},
   "outputs": [],
   "source": [
    "bag_jaccard(seqence1, seqence2)"
   ]
  },
  {
   "cell_type": "code",
   "execution_count": 80,
   "metadata": {},
   "outputs": [],
   "source": [
    "import numpy as np"
   ]
  },
  {
   "cell_type": "code",
   "execution_count": 90,
   "metadata": {},
   "outputs": [
    {
     "data": {
      "text/plain": [
       "array([[ 0,  0,  0,  0,  0,  0,  0,  0],\n",
       "       [ 0,  0,  0,  0,  0,  0,  0,  0],\n",
       "       [ 0,  0,  0,  0,  0,  0,  0,  0],\n",
       "       [ 0,  3,  1,  0,  0,  0,  0,  0],\n",
       "       [ 0,  1,  6,  4,  2,  0,  0,  0],\n",
       "       [ 0,  0,  4,  3,  1,  0,  0,  0],\n",
       "       [ 0,  0,  2,  7,  5,  3,  1,  0],\n",
       "       [ 0,  0,  0,  5, 10,  8,  6,  4]])"
      ]
     },
     "execution_count": 90,
     "metadata": {},
     "output_type": "execute_result"
    }
   ],
   "source": [
    "def prepare_matrix(a, b, gain=3, loss=2):\n",
    "    m = np.zeros((len(a) + 1, len(b) + 1), int)\n",
    "    for i in range(len(a)):\n",
    "        for j in range(len(b)):\n",
    "            match = m[i, j] + (gain if a[i] == b[j] else -gain)\n",
    "            delete = m[i, j + 1] - loss\n",
    "            insert = m[i + 1, j] - loss\n",
    "            m[i + 1, j + 1] = max(match, delete, insert, 0)\n",
    "    return m\n",
    "\n",
    "prepare_matrix(\"ABCDEFG\", \"CDFGHIJ\")"
   ]
  },
  {
   "cell_type": "code",
   "execution_count": 91,
   "metadata": {},
   "outputs": [
    {
     "data": {
      "image/png": "[encoded data removed]",
      "text/plain": [
       "<Figure size 400x533.333 with 1 Axes>"
      ]
     },
     "metadata": {},
     "output_type": "display_data"
    }
   ],
   "source": [
    "plt.matshow(prepare_matrix(\"ABCDEFG\", \"CDFGH\"))\n",
    "plt.show()"
   ]
  },
  {
   "cell_type": "code",
   "execution_count": 130,
   "metadata": {},
   "outputs": [
    {
     "name": "stderr",
     "output_type": "stream",
     "text": [
      "/tmp/ipykernel_3025/1997334.py:10: UserWarning: FixedFormatter should only be used together with FixedLocator\n",
      "  splt.set_xticklabels([\"\", \"\"] + sequence2)\n",
      "/tmp/ipykernel_3025/1997334.py:11: UserWarning: FixedFormatter should only be used together with FixedLocator\n",
      "  splt.set_yticklabels([\"\", \"\"] + sequence1)\n"
     ]
    },
    {
     "data": {
      "image/png": "[encoded data removed]",
      "text/plain": [
       "<Figure size 640x480 with 2 Axes>"
      ]
     },
     "metadata": {},
     "output_type": "display_data"
    }
   ],
   "source": [
    "sequence1 = \"The cat likes the dog very much it seems when I watch them\".split()\n",
    "sequence2 = \"Just imagine that someone likes the old dog so very much that it would be a delighted\".split()\n",
    "\n",
    "matrix = prepare_matrix(sequence1, sequence2)\n",
    "fig = plt.figure()\n",
    "splt = fig.add_subplot(111)\n",
    "mat = splt.matshow(matrix)\n",
    "fig.colorbar(mat)\n",
    "plt.locator_params(nbins=1000)\n",
    "splt.set_xticklabels([\"\", \"\"] + sequence2)\n",
    "splt.set_yticklabels([\"\", \"\"] + sequence1)\n",
    "plt.show()"
   ]
  },
  {
   "cell_type": "code",
   "execution_count": 119,
   "metadata": {},
   "outputs": [
    {
     "data": {
      "text/plain": [
       "3"
      ]
     },
     "execution_count": 119,
     "metadata": {},
     "output_type": "execute_result"
    }
   ],
   "source": [
    "np.argmax([1, 2, 3, 4, 3, 2, 1])"
   ]
  },
  {
   "cell_type": "code",
   "execution_count": 120,
   "metadata": {},
   "outputs": [
    {
     "data": {
      "text/plain": [
       "3"
      ]
     },
     "execution_count": 120,
     "metadata": {},
     "output_type": "execute_result"
    }
   ],
   "source": [
    "np.argmax([1, 2, 3, 4, 3, 2, 1, 4])"
   ]
  },
  {
   "cell_type": "code",
   "execution_count": 127,
   "metadata": {},
   "outputs": [
    {
     "data": {
      "text/plain": [
       "99"
      ]
     },
     "execution_count": 127,
     "metadata": {},
     "output_type": "execute_result"
    }
   ],
   "source": [
    "test = np.array([[1, 2, 3, 4], [11, 99, 13, 14], [21, 22, 23, 99]])\n",
    "amax = np.amax(test)\n",
    "max_positions = [(x, y) for y, x in np.where(test == amax)]\n",
    "\n",
    "test_reverse = np.flip(np.flip(test, 0), 1)\n",
    "i, j = np.unravel_index(test_reverse.argmax(), test_reverse.shape)\n",
    "i, j = np.subtract(test.shape, (i + 1, j + 1))\n",
    "test[i][j]"
   ]
  },
  {
   "cell_type": "code",
   "execution_count": 128,
   "metadata": {},
   "outputs": [
    {
     "data": {
      "text/plain": [
       "(['likes', 'the', 'dog', 'very', 'much', 'it'], 4)"
      ]
     },
     "execution_count": 128,
     "metadata": {},
     "output_type": "execute_result"
    }
   ],
   "source": [
    "def traceback(m, b, words=[], old_i=0, old_j=0):\n",
    "    m_reverse = np.flip(np.flip(m, 0), 1)\n",
    "    i, j = np.unravel_index(m_reverse.argmax(), m_reverse.shape)\n",
    "    i, j = np.subtract(m.shape, (i + 1, j + 1))\n",
    "    if m[i, j] == 0:\n",
    "        return words, j\n",
    "    elif old_i - i > 1:\n",
    "        return traceback(m[0:i, 0:j], b, [b[j - 1]] + [\"<?>\"]*(old_i - i - 1) + words, i ,j)\n",
    "    else:\n",
    "        return traceback(m[0:i, 0:j], b, [b[j - 1]] + words, i ,j)\n",
    "\n",
    "traceback(matrix, sequence2)"
   ]
  },
  {
   "cell_type": "code",
   "execution_count": 131,
   "metadata": {},
   "outputs": [
    {
     "data": {
      "text/plain": [
       "([], 15)"
      ]
     },
     "execution_count": 131,
     "metadata": {},
     "output_type": "execute_result"
    }
   ],
   "source": [
    "act1scene1text = [\n",
    "    element.text\n",
    "    for element in xp(\n",
    "        tei_text, '//div[@type=\"act\"][@n=\"1\"]//div[@type=\"scene\"][@n=\"1\"]//sp//w'\n",
    "    )\n",
    "]\n",
    "\n",
    "comparison_text = (\"Fair is foul and foul is fair Let’s fly\"+\n",
    "    \"away through the fog and filthy air\").split()\n",
    "\n",
    "matrix = prepare_matrix(act1scene1text, comparison_text)\n",
    "traceback(matrix, comparison_text)"
   ]
  },
  {
   "cell_type": "code",
   "execution_count": 132,
   "metadata": {},
   "outputs": [
    {
     "data": {
      "text/plain": [
       "([], 0)"
      ]
     },
     "execution_count": 132,
     "metadata": {},
     "output_type": "execute_result"
    }
   ],
   "source": [
    "matrix = prepare_matrix(comparison_text, act1scene1text)\n",
    "traceback(matrix, act1scene1text)"
   ]
  },
  {
   "cell_type": "code",
   "execution_count": 133,
   "metadata": {},
   "outputs": [
    {
     "data": {
      "image/png": "[encoded data removed]",
      "text/plain": [
       "<Figure size 400x1600 with 1 Axes>"
      ]
     },
     "metadata": {},
     "output_type": "display_data"
    }
   ],
   "source": [
    "plt.matshow(matrix)\n",
    "plt.show()"
   ]
  },
  {
   "cell_type": "code",
   "execution_count": 135,
   "metadata": {},
   "outputs": [
    {
     "data": {
      "text/plain": [
       "([], 0)"
      ]
     },
     "execution_count": 135,
     "metadata": {},
     "output_type": "execute_result"
    }
   ],
   "source": [
    "act1text = [\n",
    "    element.text\n",
    "    for element in xp(\n",
    "        tei_text, '//div[@type=\"act\"][@n=\"1\"]//sp//w'\n",
    "    )\n",
    "]\n",
    "\n",
    "act2text = [\n",
    "    element.text\n",
    "    for element in xp(\n",
    "        tei_text, '//div[@type=\"act\"][@n=\"2\"]//sp//w'\n",
    "    )\n",
    "]\n",
    "\n",
    "matrix = prepare_matrix(act1text, act2text)\n",
    "traceback(matrix, act2text)"
   ]
  },
  {
   "cell_type": "code",
   "execution_count": 138,
   "metadata": {},
   "outputs": [
    {
     "name": "stderr",
     "output_type": "stream",
     "text": [
      "[nltk_data] Downloading package punkt to /home/mark/nltk_data...\n",
      "[nltk_data]   Package punkt is already up-to-date!\n",
      "[nltk_data] Downloading package brown to /home/mark/nltk_data...\n",
      "[nltk_data]   Package brown is already up-to-date!\n",
      "[nltk_data] Downloading package wordnet to /home/mark/nltk_data...\n",
      "[nltk_data]   Package wordnet is already up-to-date!\n",
      "[nltk_data] Downloading package omw-1.4 to /home/mark/nltk_data...\n",
      "[nltk_data]   Package omw-1.4 is already up-to-date!\n",
      "[nltk_data] Downloading package averaged_perceptron_tagger to\n",
      "[nltk_data]     /home/mark/nltk_data...\n",
      "[nltk_data]   Unzipping taggers/averaged_perceptron_tagger.zip.\n"
     ]
    },
    {
     "data": {
      "text/plain": [
       "True"
      ]
     },
     "execution_count": 138,
     "metadata": {},
     "output_type": "execute_result"
    }
   ],
   "source": [
    "import nltk\n",
    "nltk.download('punkt')\n",
    "nltk.download('brown')\n",
    "nltk.download('wordnet')\n",
    "nltk.download('omw-1.4')\n",
    "nltk.download('averaged_perceptron_tagger')"
   ]
  },
  {
   "cell_type": "code",
   "execution_count": 139,
   "metadata": {},
   "outputs": [],
   "source": [
    "from textblob import TextBlob"
   ]
  },
  {
   "cell_type": "code",
   "execution_count": 140,
   "metadata": {},
   "outputs": [
    {
     "data": {
      "text/plain": [
       "622"
      ]
     },
     "execution_count": 140,
     "metadata": {},
     "output_type": "execute_result"
    }
   ],
   "source": [
    "text = '''\n",
    "Shall I compare thee to a summer’s day?\n",
    "Thou art more lovely and more temperate;\n",
    "Rough winds do shake the darling buds of May,\n",
    "And summer’s lease hath all too short a date;\n",
    "Sometime too hot the eye of heaven shines,\n",
    "And often is his gold complexion dimm’d;\n",
    "And every fair from fair sometime declines,\n",
    "By chance or nature’s changing course untrimm’d;\n",
    "But thy eternal summer shall not fade,\n",
    "Nor lose possession of that fair thou ow’st;\n",
    "Nor shall Death brag thou wander’st in his shade,\n",
    "When in eternal lines to time thou grow’st:\n",
    "So long as men can breathe or eyes can see,\n",
    "So long lives this, and this gives life to thee.\n",
    "'''\n",
    "\n",
    "blob = TextBlob(text)\n",
    "len(blob)"
   ]
  },
  {
   "cell_type": "code",
   "execution_count": 141,
   "metadata": {},
   "outputs": [
    {
     "data": {
      "text/plain": [
       "'\\n'"
      ]
     },
     "execution_count": 141,
     "metadata": {},
     "output_type": "execute_result"
    }
   ],
   "source": [
    "blob[0]"
   ]
  },
  {
   "cell_type": "code",
   "execution_count": 142,
   "metadata": {},
   "outputs": [
    {
     "data": {
      "text/plain": [
       "TextBlob(\"Shall I compare\")"
      ]
     },
     "execution_count": 142,
     "metadata": {},
     "output_type": "execute_result"
    }
   ],
   "source": [
    "blob[1:16]"
   ]
  },
  {
   "cell_type": "code",
   "execution_count": 143,
   "metadata": {},
   "outputs": [
    {
     "data": {
      "text/plain": [
       "2"
      ]
     },
     "execution_count": 143,
     "metadata": {},
     "output_type": "execute_result"
    }
   ],
   "source": [
    "len(blob.sentences)"
   ]
  },
  {
   "cell_type": "code",
   "execution_count": 144,
   "metadata": {},
   "outputs": [
    {
     "data": {
      "text/plain": [
       "Sentence(\"\n",
       "Shall I compare thee to a summer’s day?\")"
      ]
     },
     "execution_count": 144,
     "metadata": {},
     "output_type": "execute_result"
    }
   ],
   "source": [
    "blob.sentences[0]"
   ]
  },
  {
   "cell_type": "code",
   "execution_count": 145,
   "metadata": {},
   "outputs": [
    {
     "data": {
      "text/plain": [
       "3"
      ]
     },
     "execution_count": 145,
     "metadata": {},
     "output_type": "execute_result"
    }
   ],
   "source": [
    "newblob = blob[1:16]+\" \"+blob[168:171]+\"a? Yes! We use complicated methods.\"\n",
    "len(newblob.sentences)"
   ]
  },
  {
   "cell_type": "code",
   "execution_count": 146,
   "metadata": {},
   "outputs": [
    {
     "data": {
      "text/plain": [
       "Sentence(\"Shall I compare data?\")"
      ]
     },
     "execution_count": 146,
     "metadata": {},
     "output_type": "execute_result"
    }
   ],
   "source": [
    "newblob.sentences[0]"
   ]
  },
  {
   "cell_type": "code",
   "execution_count": 147,
   "metadata": {},
   "outputs": [
    {
     "data": {
      "text/plain": [
       "Sentence(\"Yes!\")"
      ]
     },
     "execution_count": 147,
     "metadata": {},
     "output_type": "execute_result"
    }
   ],
   "source": [
    "newblob.sentences[1]"
   ]
  },
  {
   "cell_type": "code",
   "execution_count": 148,
   "metadata": {},
   "outputs": [
    {
     "data": {
      "text/plain": [
       "Sentence(\"We use complicated methods.\")"
      ]
     },
     "execution_count": 148,
     "metadata": {},
     "output_type": "execute_result"
    }
   ],
   "source": [
    "newblob.sentences[2]"
   ]
  },
  {
   "cell_type": "code",
   "execution_count": 149,
   "metadata": {},
   "outputs": [
    {
     "data": {
      "text/plain": [
       "WordList(['Shall', 'I', 'compare', 'data', '?', 'Yes', '!', 'We', 'use', 'complicated', 'methods', '.'])"
      ]
     },
     "execution_count": 149,
     "metadata": {},
     "output_type": "execute_result"
    }
   ],
   "source": [
    "wordlist = newblob.tokenize()\n",
    "wordlist"
   ]
  },
  {
   "cell_type": "code",
   "execution_count": 150,
   "metadata": {},
   "outputs": [
    {
     "data": {
      "text/plain": [
       "WordList(['Shall', 'I', 'compare', 'data', '?', 'Yes', '!', 'We', 'use', 'complicated', 'method', '.'])"
      ]
     },
     "execution_count": 150,
     "metadata": {},
     "output_type": "execute_result"
    }
   ],
   "source": [
    "lemmas = wordlist.lemmatize()\n",
    "lemmas"
   ]
  },
  {
   "cell_type": "code",
   "execution_count": 151,
   "metadata": {},
   "outputs": [
    {
     "data": {
      "text/plain": [
       "WordList(['shall', 'i', 'compare', 'data', '?', 'yes', '!', 'we', 'use', 'complicated', 'method', '.'])"
      ]
     },
     "execution_count": 151,
     "metadata": {},
     "output_type": "execute_result"
    }
   ],
   "source": [
    "lemmas.lower()"
   ]
  },
  {
   "cell_type": "code",
   "execution_count": 152,
   "metadata": {},
   "outputs": [
    {
     "data": {
      "text/plain": [
       "WordList(['shall', 'i', 'compar', 'data', '?', 'ye', '!', 'we', 'use', 'complic', 'method', '.'])"
      ]
     },
     "execution_count": 152,
     "metadata": {},
     "output_type": "execute_result"
    }
   ],
   "source": [
    "lemmas.stem()"
   ]
  },
  {
   "cell_type": "code",
   "execution_count": 153,
   "metadata": {},
   "outputs": [
    {
     "data": {
      "text/plain": [
       "TextBlob(\"Shall I compare data? Yes! He use complicated methods.\")"
      ]
     },
     "execution_count": 153,
     "metadata": {},
     "output_type": "execute_result"
    }
   ],
   "source": [
    "newblob.correct()"
   ]
  },
  {
   "cell_type": "code",
   "execution_count": 154,
   "metadata": {},
   "outputs": [
    {
     "data": {
      "text/plain": [
       "TextBlob(\"Leipzig is a beautiful town\")"
      ]
     },
     "execution_count": 154,
     "metadata": {},
     "output_type": "execute_result"
    }
   ],
   "source": [
    "TextBlob(\"Leipzig is a beatifull townn\").correct()"
   ]
  },
  {
   "cell_type": "code",
   "execution_count": 155,
   "metadata": {},
   "outputs": [
    {
     "data": {
      "text/plain": [
       "[('Shall', 'NN'),\n",
       " ('I', 'PRP'),\n",
       " ('compare', 'VBP'),\n",
       " ('data', 'NNS'),\n",
       " ('Yes', 'UH'),\n",
       " ('We', 'PRP'),\n",
       " ('use', 'VBP'),\n",
       " ('complicated', 'VBN'),\n",
       " ('methods', 'NNS')]"
      ]
     },
     "execution_count": 155,
     "metadata": {},
     "output_type": "execute_result"
    }
   ],
   "source": [
    "newblob.pos_tags"
   ]
  },
  {
   "cell_type": "code",
   "execution_count": 156,
   "metadata": {},
   "outputs": [
    {
     "name": "stdout",
     "output_type": "stream",
     "text": [
      "Shall\tNN\n",
      "I\tPRP\n",
      "compare\tVBP\n",
      "data\tNNS\n",
      "Yes\tUH\n",
      "We\tPRP\n",
      "use\tVBP\n",
      "complicated\tVBN\n",
      "methods\tNNS\n"
     ]
    }
   ],
   "source": [
    "print(\"\\n\".join([word + \"\\t\" + tag for word, tag in newblob.pos_tags]))"
   ]
  },
  {
   "cell_type": "code",
   "execution_count": 157,
   "metadata": {},
   "outputs": [
    {
     "data": {
      "text/plain": [
       "['compare', 'use', 'complicated']"
      ]
     },
     "execution_count": 157,
     "metadata": {},
     "output_type": "execute_result"
    }
   ],
   "source": [
    "[word for word, tag in newblob.tags if tag[0]==\"V\"]"
   ]
  },
  {
   "cell_type": "code",
   "execution_count": 158,
   "metadata": {},
   "outputs": [
    {
     "name": "stdout",
     "output_type": "stream",
     "text": [
      "compare\tVBP\n",
      "do\tVBP\n",
      "shake\tVB\n",
      "darling\tVBG\n",
      "hot\tVBZ\n",
      "is\tVBZ\n",
      "changing\tVBG\n",
      "fade\tVB\n",
      "lose\tVBP\n",
      "breathe\tVB\n",
      "see\tVB\n",
      "gives\tVBZ\n",
      "thee\tVB\n"
     ]
    }
   ],
   "source": [
    "print(\"\\n\".join([word + \"\\t\" + tag for word, tag in blob.tags if tag[0]==\"V\"]))"
   ]
  },
  {
   "cell_type": "code",
   "execution_count": 159,
   "metadata": {},
   "outputs": [
    {
     "data": {
      "text/plain": [
       "[WordList(['Shall', 'I', 'compare']),\n",
       " WordList(['I', 'compare', 'data']),\n",
       " WordList(['compare', 'data', 'Yes']),\n",
       " WordList(['data', 'Yes', 'We']),\n",
       " WordList(['Yes', 'We', 'use']),\n",
       " WordList(['We', 'use', 'complicated']),\n",
       " WordList(['use', 'complicated', 'methods'])]"
      ]
     },
     "execution_count": 159,
     "metadata": {},
     "output_type": "execute_result"
    }
   ],
   "source": [
    "newblob.ngrams(3)"
   ]
  },
  {
   "cell_type": "code",
   "execution_count": 160,
   "metadata": {},
   "outputs": [
    {
     "data": {
      "text/plain": [
       "[(0, 'a'), (1, 'b'), (2, 'c')]"
      ]
     },
     "execution_count": 160,
     "metadata": {},
     "output_type": "execute_result"
    }
   ],
   "source": [
    "list(enumerate([\"a\",\"b\",\"c\"]))"
   ]
  },
  {
   "cell_type": "code",
   "execution_count": 161,
   "metadata": {},
   "outputs": [
    {
     "data": {
      "text/plain": [
       "[WordList(['Shall', 'I', 'compare']),\n",
       " WordList(['data', 'Yes', 'We']),\n",
       " WordList(['use', 'complicated', 'methods'])]"
      ]
     },
     "execution_count": 161,
     "metadata": {},
     "output_type": "execute_result"
    }
   ],
   "source": [
    "[ngram for index, ngram in enumerate(newblob.ngrams(3)) if index % 3 == 0]"
   ]
  },
  {
   "cell_type": "code",
   "execution_count": 162,
   "metadata": {},
   "outputs": [
    {
     "data": {
      "text/plain": [
       "Sentiment(polarity=0.0, subjectivity=0.0)"
      ]
     },
     "execution_count": 162,
     "metadata": {},
     "output_type": "execute_result"
    }
   ],
   "source": [
    "TextBlob(\"Leipzig is a town.\").sentiment"
   ]
  },
  {
   "cell_type": "code",
   "execution_count": 163,
   "metadata": {},
   "outputs": [
    {
     "data": {
      "text/plain": [
       "Sentiment(polarity=0.85, subjectivity=1.0)"
      ]
     },
     "execution_count": 163,
     "metadata": {},
     "output_type": "execute_result"
    }
   ],
   "source": [
    "TextBlob(\"Leipzig is a beautiful town.\").sentiment"
   ]
  },
  {
   "cell_type": "code",
   "execution_count": 164,
   "metadata": {},
   "outputs": [
    {
     "data": {
      "text/plain": [
       "Sentiment(polarity=0.85, subjectivity=1.0)"
      ]
     },
     "execution_count": 164,
     "metadata": {},
     "output_type": "execute_result"
    }
   ],
   "source": [
    "TextBlob(\"Leipzig seems to be a beautiful town.\").sentiment"
   ]
  },
  {
   "cell_type": "code",
   "execution_count": 165,
   "metadata": {},
   "outputs": [
    {
     "data": {
      "text/plain": [
       "Sentiment(polarity=-0.425, subjectivity=1.0)"
      ]
     },
     "execution_count": 165,
     "metadata": {},
     "output_type": "execute_result"
    }
   ],
   "source": [
    "TextBlob(\"Leipzig is not a beautiful town.\").sentiment"
   ]
  },
  {
   "cell_type": "code",
   "execution_count": 166,
   "metadata": {},
   "outputs": [
    {
     "data": {
      "text/plain": [
       "Sentiment(polarity=-0.7, subjectivity=1.0)"
      ]
     },
     "execution_count": 166,
     "metadata": {},
     "output_type": "execute_result"
    }
   ],
   "source": [
    "TextBlob(\"Leipzig is an ugly town.\").sentiment"
   ]
  },
  {
   "cell_type": "code",
   "execution_count": 167,
   "metadata": {},
   "outputs": [
    {
     "data": {
      "text/plain": [
       "Sentiment(polarity=-0.7, subjectivity=1.0)"
      ]
     },
     "execution_count": 167,
     "metadata": {},
     "output_type": "execute_result"
    }
   ],
   "source": [
    "TextBlob(\"Leipzig is not an ugly town.\").sentiment"
   ]
  },
  {
   "cell_type": "code",
   "execution_count": 168,
   "metadata": {},
   "outputs": [
    {
     "data": {
      "text/plain": [
       "[0.0, 0.0, -0.5]"
      ]
     },
     "execution_count": 168,
     "metadata": {},
     "output_type": "execute_result"
    }
   ],
   "source": [
    "[sentence.sentiment.polarity for sentence in newblob.sentences]"
   ]
  },
  {
   "cell_type": "code",
   "execution_count": 169,
   "metadata": {},
   "outputs": [
    {
     "data": {
      "text/plain": [
       "[Sentence(\"Thou art more lovely and more temperate;\n",
       " Rough winds do shake the darling buds of May,\n",
       " And summer’s lease hath all too short a date;\n",
       " Sometime too hot the eye of heaven shines,\n",
       " And often is his gold complexion dimm’d;\n",
       " And every fair from fair sometime declines,\n",
       " By chance or nature’s changing course untrimm’d;\n",
       " But thy eternal summer shall not fade,\n",
       " Nor lose possession of that fair thou ow’st;\n",
       " Nor shall Death brag thou wander’st in his shade,\n",
       " When in eternal lines to time thou grow’st:\n",
       " So long as men can breathe or eyes can see,\n",
       " So long lives this, and this gives life to thee.\")]"
      ]
     },
     "execution_count": 169,
     "metadata": {},
     "output_type": "execute_result"
    }
   ],
   "source": [
    "[sentence for sentence in blob.sentences if sentence.polarity > 0.3]"
   ]
  },
  {
   "cell_type": "code",
   "execution_count": 170,
   "metadata": {},
   "outputs": [],
   "source": [
    "choppedblob = TextBlob(text.replace(\";\",\".\").replace(\",\",\".\"))"
   ]
  },
  {
   "cell_type": "code",
   "execution_count": 171,
   "metadata": {},
   "outputs": [
    {
     "data": {
      "text/plain": [
       "14"
      ]
     },
     "execution_count": 171,
     "metadata": {},
     "output_type": "execute_result"
    }
   ],
   "source": [
    "len(choppedblob.sentences)"
   ]
  },
  {
   "cell_type": "code",
   "execution_count": 172,
   "metadata": {},
   "outputs": [
    {
     "data": {
      "text/plain": [
       "[Sentence(\"And every fair from fair sometime declines.\"),\n",
       " Sentence(\"Nor lose possession of that fair thou ow’st.\")]"
      ]
     },
     "execution_count": 172,
     "metadata": {},
     "output_type": "execute_result"
    }
   ],
   "source": [
    "[sentence for sentence in choppedblob.sentences if sentence.polarity > 0.6]"
   ]
  },
  {
   "cell_type": "code",
   "execution_count": 1,
   "metadata": {},
   "outputs": [
    {
     "ename": "NameError",
     "evalue": "name 'choppedblob' is not defined",
     "output_type": "error",
     "traceback": [
      "\u001b[0;31m---------------------------------------------------------------------------\u001b[0m",
      "\u001b[0;31mNameError\u001b[0m                                 Traceback (most recent call last)",
      "Cell \u001b[0;32mIn[1], line 1\u001b[0m\n\u001b[0;32m----> 1\u001b[0m [sentence \u001b[39mfor\u001b[39;00m sentence \u001b[39min\u001b[39;00m choppedblob\u001b[39m.\u001b[39msentences \u001b[39mif\u001b[39;00m sentence\u001b[39m.\u001b[39mpolarity \u001b[39m<\u001b[39m\u001b[39m=\u001b[39m \u001b[39m-\u001b[39m\u001b[39m0.1\u001b[39m]\n",
      "\u001b[0;31mNameError\u001b[0m: name 'choppedblob' is not defined"
     ]
    }
   ],
   "source": [
    "[sentence for sentence in choppedblob.sentences if sentence.polarity <= -0.1]"
   ]
  },
  {
   "cell_type": "code",
   "execution_count": 8,
   "metadata": {},
   "outputs": [
    {
     "data": {
      "text/plain": [
       "0"
      ]
     },
     "execution_count": 8,
     "metadata": {},
     "output_type": "execute_result"
    }
   ],
   "source": [
    "import codecs\n",
    "import xml.etree.ElementTree as ElementTree\n",
    "tei_header, tei_text = ElementTree.fromstring(\n",
    "    codecs.open(\"/home/mark/Documents/digital-philology/macbeth/macbeth_content/Mac.xml\", \"r\", \"utf-8\").read()\n",
    ")\n",
    "\n",
    "textnodes_act1 = [textnodes for textnodes in tei_text[1][0].itertext()]\n",
    "text = \" \".join(textnodes_act1).replace(\"\\n\",\" \")\n",
    "len(text)"
   ]
  },
  {
   "cell_type": "code",
   "execution_count": 9,
   "metadata": {},
   "outputs": [
    {
     "ename": "NameError",
     "evalue": "name 'TextBlob' is not defined",
     "output_type": "error",
     "traceback": [
      "\u001b[0;31m---------------------------------------------------------------------------\u001b[0m",
      "\u001b[0;31mNameError\u001b[0m                                 Traceback (most recent call last)",
      "Cell \u001b[0;32mIn[9], line 1\u001b[0m\n\u001b[0;32m----> 1\u001b[0m macblob \u001b[39m=\u001b[39m TextBlob(text)\n\u001b[1;32m      2\u001b[0m macblob\u001b[39m.\u001b[39msentences[\u001b[39m0\u001b[39m]\n",
      "\u001b[0;31mNameError\u001b[0m: name 'TextBlob' is not defined"
     ]
    }
   ],
   "source": [
    "macblob = TextBlob(text)\n",
    "macblob.sentences[0]"
   ]
  },
  {
   "cell_type": "code",
   "execution_count": null,
   "metadata": {},
   "outputs": [],
   "source": []
  }
 ],
 "metadata": {
  "kernelspec": {
   "display_name": "dphil",
   "language": "python",
   "name": "python3"
  },
  "language_info": {
   "codemirror_mode": {
    "name": "ipython",
    "version": 3
   },
   "file_extension": ".py",
   "mimetype": "text/x-python",
   "name": "python",
   "nbconvert_exporter": "python",
   "pygments_lexer": "ipython3",
   "version": "3.11.3"
  },
  "orig_nbformat": 4
 },
 "nbformat": 4,
 "nbformat_minor": 2
}
